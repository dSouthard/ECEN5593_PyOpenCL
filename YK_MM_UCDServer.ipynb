{
 "cells": [
  {
   "cell_type": "code",
   "execution_count": 1,
   "metadata": {
    "collapsed": false
   },
   "outputs": [
    {
     "name": "stdout",
     "output_type": "stream",
     "text": [
      "Populating the interactive namespace from numpy and matplotlib\n",
      "PyOpenCL version: 2015.2.4\n",
      "OpenCL header version: 2.0\n",
      "\n",
      "Numpy version: 1.11.0\n",
      "MatPlotLib version: 1.3.1\n"
     ]
    },
    {
     "name": "stderr",
     "output_type": "stream",
     "text": [
      "/usr/lib/python2.7/site-packages/IPython/core/magics/extension.py:47: UserWarning: %install_ext` is deprecated, please distribute your extension as a python package.\n",
      "  \"as a python package.\", UserWarning)\n"
     ]
    },
    {
     "name": "stdout",
     "output_type": "stream",
     "text": [
      "Installed autotime.py. To use it, type:\n",
      "  %load_ext autotime\n"
     ]
    }
   ],
   "source": [
    "#!/usr/bin/env python\n",
    "# -*- coding: utf-8 -*-\n",
    "\n",
    "from __future__ import absolute_import, print_function\n",
    "import pyopencl as cl\n",
    "import numpy as np\n",
    "import numpy.linalg as la\n",
    "from time import time\n",
    "import matplotlib.pyplot as plt\n",
    "%pylab inline \n",
    "\n",
    "VERBOSE = True\n",
    "MY_PLATFORM = \"INTEL\" # AMD, Intel, Experimental\n",
    "MY_DEVICE = \"CPU\" # CPU, GPU, DEFAULT, ACCELERATOR \n",
    "MY_DEVICE_NUM = 0 # if multiple device types, i.e. multiple GPUs\n",
    "\n",
    "# Print version information\n",
    "print('PyOpenCL version: ' + cl.VERSION_TEXT)\n",
    "print('OpenCL header version: ' + '.'.join(map(str, cl.get_cl_header_version())) + '\\n')\n",
    "print(\"Numpy version: {0}\".format(np.__version__))\n",
    "print(\"MatPlotLib version: {0}\".format(matplotlib.__version__))\n",
    "\n",
    "%install_ext https://raw.github.com/cpcloud/ipython-autotime/master/autotime.py\n",
    "%load_ext autotime"
   ]
  },
  {
   "cell_type": "code",
   "execution_count": 2,
   "metadata": {
    "collapsed": false
   },
   "outputs": [
    {
     "name": "stdout",
     "output_type": "stream",
     "text": [
      "time: 55.8 ms\n"
     ]
    }
   ],
   "source": [
    "# choose a platform:\n",
    "def choose_platform(plat_choice):\n",
    "    my_platform = None\n",
    "    plat = cl.get_platforms()\n",
    "    try:\n",
    "        for i in range(len(plat)):\n",
    "            if (plat_choice.upper() in str(plat[i].name).upper()):\n",
    "                my_plat = plat[i]    \n",
    "        if (VERBOSE):\n",
    "            if (my_plat == None):\n",
    "                print (plat_choice, \"platform not found!\")\n",
    "            else:\n",
    "                print (\"Platform Selected:\", my_plat.name)\n",
    "    except:\n",
    "         print (\"Exception: Failed to get platform:\",plat_choice)\n",
    "    return my_plat\n",
    "\n",
    "# choose a device\n",
    "def choose_device(platform_choice,device_choice,device_num):\n",
    "    my_device = None\n",
    "    if (device_choice.upper() == \"CPU\"):\n",
    "        my_device = platform_choice.get_devices(cl.device_type.CPU)      \n",
    "    elif (device_choice.upper() == \"GPU\"):\n",
    "        my_device = platform_choice.get_devices(cl.device_type.GPU)\n",
    "    elif (device_choice.upper() == \"ACCELERATOR\"):\n",
    "        my_device = platform_choice.get_devices(cl.device_type.ACCELERATOR)\n",
    "    elif (device_choice.upper() == \"DEFAULT\"):\n",
    "        my_device = platform_choice.get_devices(cl.device_type.DEFAULT)\n",
    "        \n",
    "    if (VERBOSE >=1): print (\"Device Selected: %s (%s)\" % (my_device[device_num].name,device_choice.upper()))\n",
    "    \n",
    "    return my_device[device_num],\n",
    "\n",
    "# setup pyopencl with platform, device, context, and queue\n",
    "def setup_pyopencl(platform_choice,device_choice,device_num):\n",
    "    try:\n",
    "        platform = choose_platform(platform_choice)\n",
    "        device = choose_device(platform, device_choice,device_num)\n",
    "        context = cl.Context(device)\n",
    "        queue = cl.CommandQueue(context,properties=cl.command_queue_properties.PROFILING_ENABLE)    \n",
    "        return platform, device, context, queue\n",
    "    except:\n",
    "        print (\"Unable to set up pyopencl. Please try a different platform/device.\")\n",
    "        print (\"Make sure you have the correct platform selected.\")\n",
    "        return None, None, None, None"
   ]
  },
  {
   "cell_type": "code",
   "execution_count": 3,
   "metadata": {
    "collapsed": false
   },
   "outputs": [
    {
     "name": "stdout",
     "output_type": "stream",
     "text": [
      "time: 66.5 ms\n"
     ]
    }
   ],
   "source": [
    "# non opencl matrix multiply function    \n",
    "def regular_matrix_multiply(a,b):\n",
    "    return np.mat(a)*np.mat(b)\n",
    "\n",
    "# pyopencl matrix multiply function:\n",
    "def pyopencl_matrix_multiply(matrix_a, matrix_b,my_plat,my_dev,my_dev_num):\n",
    "    # OpenCL routines and objects\n",
    "    plat, dev, ctx, queue = setup_pyopencl(my_plat,my_dev,my_dev_num)\n",
    "    \n",
    "    if (VERBOSE >=2):\n",
    "        print (\"Platform:\",plat)\n",
    "        print (\"Device:\",dev)\n",
    "        print (\"Context:\",ctx)\n",
    "        print (\"Queue:\",queue)\n",
    "        \n",
    "    \n",
    "    # OpenCL kernel code    \n",
    "    kernel_code = \"\"\"\n",
    "            __kernel void krnl_matmul(const unsigned int size,\n",
    "                                      __global const float * matrix_a,\n",
    "                                      __global const float * matrix_b, \n",
    "                                      __global float * matrix_c) \n",
    "            {\n",
    "              int i = get_global_id(0);\n",
    "              int j = get_global_id(1);\n",
    "              float tmp = 0;\n",
    "              for (int k=0; k<size; ++k) {\n",
    "               tmp += matrix_a[i*size+k] * matrix_b[k*size + j];\n",
    "              }\n",
    "              matrix_c[i*size+j] = tmp;\n",
    "            }\n",
    "    \"\"\"\n",
    "    prg = cl.Program(ctx,kernel_code).build()\n",
    "    t0 = time()#t0 = datetime.datetime.now()\n",
    "\n",
    "    # transfer from host to device\n",
    "    mf = cl.mem_flags\n",
    "    a_buf = cl.Buffer(ctx, mf.READ_ONLY | mf.COPY_HOST_PTR, hostbuf=matrix_a)\n",
    "    b_buf = cl.Buffer(ctx, mf.READ_ONLY | mf.COPY_HOST_PTR, hostbuf=matrix_b)\n",
    "    dest_buf = cl.Buffer(ctx, mf.WRITE_ONLY, matrix_a.nbytes )\n",
    "    t1 = time()\n",
    "    \n",
    "    prg.krnl_matmul(queue, matrix_a.shape, None, np.int32(len(matrix_a)) ,a_buf, b_buf, dest_buf)\n",
    "    \n",
    "    final_matrix = np.empty_like(matrix_a)\n",
    "    t2 = time()\n",
    "    \n",
    "    # transfer from device back to host\n",
    "    cl.enqueue_copy(queue, final_matrix , dest_buf).wait()\n",
    "    t3 = time()\n",
    "    \n",
    "    htd_time = t1 - t0 # host to device time\n",
    "    ocl_time = t2 - t1 # opencl time\n",
    "    dth_time = t3 - t2 # device to host time\n",
    "\n",
    "    if (VERBOSE >=2):\n",
    "        print ('OpenCL transfer to device: ' + str(htd_time))\n",
    "        print ('OpenCL Multiplication: ' + str(t2 - t1))\n",
    "        print ('OpenCL transfer back to host: ' + str(t3-t2))\n",
    "    \n",
    "    return final_matrix,htd_time,ocl_time,dth_time\n"
   ]
  },
  {
   "cell_type": "code",
   "execution_count": 4,
   "metadata": {
    "collapsed": false
   },
   "outputs": [
    {
     "name": "stdout",
     "output_type": "stream",
     "text": [
      "time: 23.7 ms\n"
     ]
    }
   ],
   "source": [
    "def run_bench(plat, dev, dev_num=0, m_size=10, mlow=0.0 ,mhigh=1.0):\n",
    "\n",
    "    t0 = time()\n",
    "    a = np.random.uniform(low=mlow, high=mhigh, size=(m_size,m_size)).astype(np.float32)\n",
    "    b = np.random.uniform(low=mlow, high=mhigh, size=(m_size,m_size)).astype(np.float32)\n",
    "    t1 = time()\n",
    "\n",
    "    x = (regular_matrix_multiply(a,b))\n",
    "    t2 = time()\n",
    "    y, htd_time,ocl_time,dth_time = (pyopencl_matrix_multiply(a,b,plat,dev,dev_num))\n",
    "    t3 = time()\n",
    "    \n",
    "    mat_gen_time = t1-t0\n",
    "    reg_mm_time = t2-t1\n",
    "    ocl_mm_time = t3-t2    \n",
    "    \n",
    "    return x,y,mat_gen_time,reg_mm_time,ocl_mm_time,htd_time,ocl_time,dth_time"
   ]
  },
  {
   "cell_type": "code",
   "execution_count": 18,
   "metadata": {
    "collapsed": false,
    "scrolled": true
   },
   "outputs": [
    {
     "name": "stdout",
     "output_type": "stream",
     "text": [
      "Platform Selected: Intel(R) OpenCL\n",
      "Device Selected:       Intel(R) Xeon(R) CPU E5-2440 v2 @ 1.90GHz (CPU)\n",
      "Test matrix sizes: [100, 150, 200, 250, 300, 350, 400, 450, 500, 550, 600, 650, 700, 750, 800, 850, 900, 950]\n",
      "time: 32.7 s\n"
     ]
    }
   ],
   "source": [
    "plats = [\"AMD\",\"INTEL\",\"EXPERIMENTAL\"]\n",
    "devs = [\"GPU\",\"CPU\"]\n",
    "\n",
    "MY_PLATFORM = \"INTEL\"\n",
    "MY_DEVICE = \"CPU\"\n",
    "\n",
    "# note only AMD has the GPU since I have a Radeon\n",
    "#test_sizes = [10,100,200,500,1000]\n",
    "test_sizes = range(100,1000,50)\n",
    "\n",
    "time_dict = {}\n",
    "VERBOSE = 1\n",
    "for test in test_sizes:\n",
    "    time_list = []\n",
    "    #x,y,mg_time,mm_time,oclmm_time,htd_time,ocl_time,dth_time = run_bench(\"AMD\",\"CPU\",test,mlow=0.0,mhigh=1.0)\n",
    "    time_dict[test] = (run_bench(MY_PLATFORM,MY_DEVICE,MY_DEVICE_NUM,test,mlow=0.0,mhigh=1.0))\n",
    "    VERBOSE = 0\n",
    "\n",
    "print (\"Test matrix sizes:\",test_sizes)\n",
    "#print(\"Matrix generation time:\", time_dict[test_sizes[1]][0][3], \"s\")\n",
    "# for key in time_dict:\n",
    "# time_dict[key][0]=x, 1=y, 2=mg_time, 3=mm_time, 4=oclmm_time, 5=htd_time, 6=ocl_time, 7=dth_time\n"
   ]
  },
  {
   "cell_type": "code",
   "execution_count": 21,
   "metadata": {
    "collapsed": false
   },
   "outputs": [
    {
     "data": {
      "image/png": "[encoded data removed]",
      "text/plain": [
       "<matplotlib.figure.Figure at 0x7f3d5f1fc790>"
      ]
     },
     "metadata": {},
     "output_type": "display_data"
    },
    {
     "name": "stdout",
     "output_type": "stream",
     "text": [
      "time: 566 ms\n"
     ]
    }
   ],
   "source": [
    "OCL_time = []\n",
    "OCL_kernel_time = []\n",
    "Serial_time = []\n",
    "mat_size = []\n",
    "\n",
    "for key in sorted(time_dict):\n",
    "    Serial_time.append(time_dict[key][3])\n",
    "    OCL_time.append(time_dict[key][4])\n",
    "    OCL_kernel_time.append(time_dict[key][6])\n",
    "    mat_size.append(key)\n",
    "    if (VERBOSE >=2):\n",
    "        print(\"\\nMatrix size:\", key)\n",
    "        print(\"Matrix generation time:\", time_dict[key][2], \"s\")\n",
    "        print(\"Matrix multiply time:\", time_dict[key][3], \"s\")\n",
    "        print(\"Total OpenCL MM time:\", time_dict[key][4], \"s\")\n",
    "        print(\"Transfer to device time: \", time_dict[key][5], \"s\")\n",
    "        print(\"OpenCL MM kernel time: \", time_dict[key][6], \"s\")\n",
    "        print(\"Transfer back to host time: \", time_dict[key][7], \"s\")\n",
    "\n",
    "fig = plt.figure(figsize=(6,12))\n",
    "fig.suptitle('Performance Comparison', fontsize = 14, fontweight = 'bold', y = 0.95)\n",
    "\n",
    "plt.subplot(211)\n",
    "plt.plot(mat_size, OCL_kernel_time, label='OpenCL Kernel Time on '+MY_DEVICE)\n",
    "plt.plot(mat_size, Serial_time, label='Host Calculation Time')\n",
    "plt.xlabel('Matrix Size')\n",
    "plt.ylabel(\"Execution Time [s]\")\n",
    "plt.title('Serial compared to only OpenCL Kernel')\n",
    "plt.legend( bbox_to_anchor=(0.8, 1),ncol=1)\n",
    "plt.grid(True)\n",
    "\n",
    "plt.subplot(212)\n",
    "plt.plot(mat_size, OCL_time, label='Total OpenCL Time on '+MY_DEVICE)\n",
    "plt.plot(mat_size, Serial_time, label='Host Calculation Time')\n",
    "plt.xlabel('Matrix Size')\n",
    "plt.ylabel(\"Execution Time [s]\")\n",
    "plt.title('Serial compared to OpenCL with I/O')\n",
    "plt.legend( bbox_to_anchor=(0.7, 1),ncol=1)\n",
    "plt.grid(True)\n",
    "\n",
    "plt.show()\n"
   ]
  },
  {
   "cell_type": "code",
   "execution_count": null,
   "metadata": {
    "collapsed": true
   },
   "outputs": [],
   "source": []
  }
 ],
 "metadata": {
  "kernelspec": {
   "display_name": "Python 2",
   "language": "python",
   "name": "python2"
  },
  "language_info": {
   "codemirror_mode": {
    "name": "ipython",
    "version": 2
   },
   "file_extension": ".py",
   "mimetype": "text/x-python",
   "name": "python",
   "nbconvert_exporter": "python",
   "pygments_lexer": "ipython2",
   "version": "2.7.8"
  }
 },
 "nbformat": 4,
 "nbformat_minor": 0
}
