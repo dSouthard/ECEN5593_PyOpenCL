{
 "cells": [
  {
   "cell_type": "code",
   "execution_count": 1,
   "metadata": {
    "collapsed": false
   },
   "outputs": [
    {
     "name": "stderr",
     "output_type": "stream",
     "text": [
      "/usr/lib64/python2.7/site-packages/pyopencl-2015.2.4-py2.7-linux-x86_64.egg/pyopencl/__init__.py:206: CompilerWarning: Non-empty compiler output encountered. Set the environment variable PYOPENCL_COMPILER_OUTPUT=1 to see more.\n",
      "  \"to see more.\", CompilerWarning)\n"
     ]
    }
   ],
   "source": [
    "from __future__ import absolute_import\n",
    "import numpy as np\n",
    "import pyopencl as cl\n",
    "\n",
    "def make_collector_dtype(device):\n",
    "    dtype = np.dtype([\n",
    "        (\"cur_min\", np.int32),\n",
    "        (\"cur_max\", np.int32),\n",
    "        (\"pad\", np.int32),\n",
    "        ])\n",
    "\n",
    "    name = \"minmax_collector\"\n",
    "    from pyopencl.tools import get_or_register_dtype, match_dtype_to_c_struct\n",
    "\n",
    "    dtype, c_decl = match_dtype_to_c_struct(device, name, dtype)\n",
    "    dtype = get_or_register_dtype(name, dtype)\n",
    "\n",
    "    return dtype, c_decl\n",
    "\n",
    "ctx = cl.create_some_context()\n",
    "queue = cl.CommandQueue(ctx)\n",
    "\n",
    "mmc_dtype, mmc_c_decl = make_collector_dtype(ctx.devices[0])\n",
    "\n",
    "preamble = mmc_c_decl + r\"\"\"//CL//\n",
    "\n",
    "    minmax_collector mmc_neutral()\n",
    "    {\n",
    "        // FIXME: needs infinity literal in real use, ok here\n",
    "        minmax_collector result;\n",
    "        result.cur_min = 1<<30;\n",
    "        result.cur_max = -(1<<30);\n",
    "        return result;\n",
    "    }\n",
    "\n",
    "    minmax_collector mmc_from_scalar(float x)\n",
    "    {\n",
    "        minmax_collector result;\n",
    "        result.cur_min = x;\n",
    "        result.cur_max = x;\n",
    "        return result;\n",
    "    }\n",
    "\n",
    "    minmax_collector agg_mmc(minmax_collector a, minmax_collector b)\n",
    "    {\n",
    "        minmax_collector result = a;\n",
    "        if (b.cur_min < result.cur_min)\n",
    "            result.cur_min = b.cur_min;\n",
    "        if (b.cur_max > result.cur_max)\n",
    "            result.cur_max = b.cur_max;\n",
    "        return result;\n",
    "    }\n",
    "\n",
    "    \"\"\"\n",
    "\n",
    "from pyopencl.clrandom import rand as clrand\n",
    "a_gpu = clrand(queue, (20000,), dtype=np.int32, a=0, b=10**6)\n",
    "a = a_gpu.get()\n",
    "\n",
    "from pyopencl.reduction import ReductionKernel\n",
    "red = ReductionKernel(ctx, mmc_dtype,\n",
    "        neutral=\"mmc_neutral()\",\n",
    "        reduce_expr=\"agg_mmc(a, b)\", map_expr=\"mmc_from_scalar(x[i])\",\n",
    "        arguments=\"__global int *x\", preamble=preamble)\n",
    "\n",
    "minmax = red(a_gpu).get()\n",
    "\n",
    "assert abs(minmax[\"cur_min\"] - np.min(a)) < 1e-5\n",
    "assert abs(minmax[\"cur_max\"] - np.max(a)) < 1e-5\n"
   ]
  },
  {
   "cell_type": "code",
   "execution_count": null,
   "metadata": {
    "collapsed": true
   },
   "outputs": [],
   "source": []
  }
 ],
 "metadata": {
  "kernelspec": {
   "display_name": "Python 2",
   "language": "python",
   "name": "python2"
  },
  "language_info": {
   "codemirror_mode": {
    "name": "ipython",
    "version": 2
   },
   "file_extension": ".py",
   "mimetype": "text/x-python",
   "name": "python",
   "nbconvert_exporter": "python",
   "pygments_lexer": "ipython2",
   "version": "2.7.8"
  }
 },
 "nbformat": 4,
 "nbformat_minor": 0
}
