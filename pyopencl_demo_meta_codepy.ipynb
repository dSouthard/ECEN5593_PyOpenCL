{
 "cells": [
  {
   "cell_type": "code",
   "execution_count": 1,
   "metadata": {
    "collapsed": false
   },
   "outputs": [
    {
     "ename": "ImportError",
     "evalue": "No module named codepy.cgen",
     "output_type": "error",
     "traceback": [
      "\u001b[1;31m---------------------------------------------------------------------------\u001b[0m",
      "\u001b[1;31mImportError\u001b[0m                               Traceback (most recent call last)",
      "\u001b[1;32m<ipython-input-1-d457d280c6c3>\u001b[0m in \u001b[0;36m<module>\u001b[1;34m()\u001b[0m\n\u001b[0;32m     22\u001b[0m \u001b[0mc_buf\u001b[0m \u001b[1;33m=\u001b[0m \u001b[0mcl\u001b[0m\u001b[1;33m.\u001b[0m\u001b[0mBuffer\u001b[0m\u001b[1;33m(\u001b[0m\u001b[0mctx\u001b[0m\u001b[1;33m,\u001b[0m \u001b[0mmf\u001b[0m\u001b[1;33m.\u001b[0m\u001b[0mWRITE_ONLY\u001b[0m\u001b[1;33m,\u001b[0m \u001b[0mb\u001b[0m\u001b[1;33m.\u001b[0m\u001b[0mnbytes\u001b[0m\u001b[1;33m)\u001b[0m\u001b[1;33m\u001b[0m\u001b[0m\n\u001b[0;32m     23\u001b[0m \u001b[1;33m\u001b[0m\u001b[0m\n\u001b[1;32m---> 24\u001b[1;33m \u001b[1;32mfrom\u001b[0m \u001b[0mcodepy\u001b[0m\u001b[1;33m.\u001b[0m\u001b[0mcgen\u001b[0m \u001b[1;32mimport\u001b[0m \u001b[0mFunctionBody\u001b[0m\u001b[1;33m,\u001b[0m         \u001b[0mFunctionDeclaration\u001b[0m\u001b[1;33m,\u001b[0m \u001b[0mTypedef\u001b[0m\u001b[1;33m,\u001b[0m \u001b[0mPOD\u001b[0m\u001b[1;33m,\u001b[0m \u001b[0mValue\u001b[0m\u001b[1;33m,\u001b[0m         \u001b[0mPointer\u001b[0m\u001b[1;33m,\u001b[0m \u001b[0mModule\u001b[0m\u001b[1;33m,\u001b[0m \u001b[0mBlock\u001b[0m\u001b[1;33m,\u001b[0m \u001b[0mInitializer\u001b[0m\u001b[1;33m,\u001b[0m \u001b[0mAssign\u001b[0m\u001b[1;33m,\u001b[0m \u001b[0mConst\u001b[0m\u001b[1;33m\u001b[0m\u001b[0m\n\u001b[0m\u001b[0;32m     25\u001b[0m \u001b[1;32mfrom\u001b[0m \u001b[0mcodepy\u001b[0m\u001b[1;33m.\u001b[0m\u001b[0mcgen\u001b[0m\u001b[1;33m.\u001b[0m\u001b[0mopencl\u001b[0m \u001b[1;32mimport\u001b[0m \u001b[0mCLKernel\u001b[0m\u001b[1;33m,\u001b[0m \u001b[0mCLGlobal\u001b[0m\u001b[1;33m,\u001b[0m         \u001b[0mCLRequiredWorkGroupSize\u001b[0m\u001b[1;33m\u001b[0m\u001b[0m\n\u001b[0;32m     26\u001b[0m \u001b[1;33m\u001b[0m\u001b[0m\n",
      "\u001b[1;31mImportError\u001b[0m: No module named codepy.cgen"
     ]
    }
   ],
   "source": [
    "from __future__ import absolute_import\n",
    "import pyopencl as cl\n",
    "import numpy\n",
    "import numpy.linalg as la\n",
    "from six.moves import range\n",
    "\n",
    "local_size = 256\n",
    "thread_strides = 32\n",
    "macroblock_count = 33\n",
    "dtype = numpy.float32\n",
    "total_size = local_size*thread_strides*macroblock_count\n",
    "\n",
    "ctx = cl.create_some_context()\n",
    "queue = cl.CommandQueue(ctx)\n",
    "\n",
    "a = numpy.random.randn(total_size).astype(dtype)\n",
    "b = numpy.random.randn(total_size).astype(dtype)\n",
    "\n",
    "mf = cl.mem_flags\n",
    "a_buf = cl.Buffer(ctx, mf.READ_ONLY | mf.COPY_HOST_PTR, hostbuf=a)\n",
    "b_buf = cl.Buffer(ctx, mf.READ_ONLY | mf.COPY_HOST_PTR, hostbuf=b)\n",
    "c_buf = cl.Buffer(ctx, mf.WRITE_ONLY, b.nbytes)\n",
    "\n",
    "from codepy.cgen import FunctionBody, \\\n",
    "        FunctionDeclaration, Typedef, POD, Value, \\\n",
    "        Pointer, Module, Block, Initializer, Assign, Const\n",
    "from codepy.cgen.opencl import CLKernel, CLGlobal, \\\n",
    "        CLRequiredWorkGroupSize\n",
    "\n",
    "mod = Module([\n",
    "    FunctionBody(\n",
    "        CLKernel(CLRequiredWorkGroupSize((local_size,),\n",
    "            FunctionDeclaration(\n",
    "            Value(\"void\", \"add\"),\n",
    "            arg_decls=[CLGlobal(Pointer(Const(POD(dtype, name))))\n",
    "                for name in [\"tgt\", \"op1\", \"op2\"]]))),\n",
    "        Block([\n",
    "            Initializer(POD(numpy.int32, \"idx\"), \n",
    "                \"get_local_id(0) + %d * get_group_id(0)\"\n",
    "                % (local_size*thread_strides))\n",
    "            ]+[\n",
    "            Assign(\n",
    "                \"tgt[idx+%d]\" % (o*local_size),\n",
    "                \"op1[idx+%d] + op2[idx+%d]\" % (\n",
    "                    o*local_size, \n",
    "                    o*local_size))\n",
    "            for o in range(thread_strides)]))])\n",
    "\n",
    "knl = cl.Program(ctx, str(mod)).build().add\n",
    "\n",
    "knl(queue, (local_size*macroblock_count,), (local_size,),\n",
    "        c_buf, a_buf, b_buf)\n",
    "\n",
    "c = numpy.empty_like(a)\n",
    "cl.enqueue_read_buffer(queue, c_buf, c).wait()\n",
    "\n",
    "assert la.norm(c-(a+b)) == 0\n",
    "\n"
   ]
  },
  {
   "cell_type": "code",
   "execution_count": null,
   "metadata": {
    "collapsed": true
   },
   "outputs": [],
   "source": []
  }
 ],
 "metadata": {
  "kernelspec": {
   "display_name": "Python 2",
   "language": "python",
   "name": "python2"
  },
  "language_info": {
   "codemirror_mode": {
    "name": "ipython",
    "version": 2
   },
   "file_extension": ".py",
   "mimetype": "text/x-python",
   "name": "python",
   "nbconvert_exporter": "python",
   "pygments_lexer": "ipython2",
   "version": "2.7.8"
  }
 },
 "nbformat": 4,
 "nbformat_minor": 0
}
