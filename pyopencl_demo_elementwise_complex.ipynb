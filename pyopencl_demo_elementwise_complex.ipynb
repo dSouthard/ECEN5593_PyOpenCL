{
 "cells": [
  {
   "cell_type": "code",
   "execution_count": 1,
   "metadata": {
    "collapsed": false
   },
   "outputs": [
    {
     "name": "stdout",
     "output_type": "stream",
     "text": [
      "[ 0.  0.  0.  0.  0.  0.  0.  0.  0.  0.]\n",
      "2.54042e-06\n"
     ]
    },
    {
     "name": "stderr",
     "output_type": "stream",
     "text": [
      "/usr/lib64/python2.7/site-packages/pyopencl-2015.2.4-py2.7-linux-x86_64.egg/pyopencl/__init__.py:206: CompilerWarning: Non-empty compiler output encountered. Set the environment variable PYOPENCL_COMPILER_OUTPUT=1 to see more.\n",
      "  \"to see more.\", CompilerWarning)\n"
     ]
    }
   ],
   "source": [
    "from __future__ import absolute_import\n",
    "from __future__ import print_function\n",
    "import pyopencl as cl\n",
    "import pyopencl.array as cl_array\n",
    "import numpy\n",
    "import numpy.linalg as la\n",
    "\n",
    "ctx = cl.create_some_context()\n",
    "queue = cl.CommandQueue(ctx)\n",
    "\n",
    "n = 10\n",
    "a_gpu = cl_array.to_device(queue,\n",
    "        ( numpy.random.randn(n) + 1j*numpy.random.randn(n)\n",
    "            ).astype(numpy.complex64))\n",
    "b_gpu = cl_array.to_device(queue,\n",
    "        ( numpy.random.randn(n) + 1j*numpy.random.randn(n)\n",
    "            ).astype(numpy.complex64))\n",
    "\n",
    "from pyopencl.elementwise import ElementwiseKernel\n",
    "complex_prod = ElementwiseKernel(ctx,\n",
    "        \"float a, \"\n",
    "        \"float2 *x, \"\n",
    "        \"float2 *y, \"\n",
    "        \"float2 *z\",\n",
    "        \"z[i] = a * complex_mul(x[i], y[i])\",\n",
    "        \"complex_prod\",\n",
    "        preamble=\"\"\"\n",
    "        __kernel __attribute__((vec_type_hint(float4)))\n",
    "        __attribute__(( vec_type_hint (float4)))\n",
    "        #define complex_ctr(x, y) (float2)(x, y)\n",
    "        #define complex_mul(a, b) complex_ctr(mad(-(a).y, (b).y, (a).x * (b).x), mad((a).y, (b).x, (a).x * (b).y))\n",
    "        #define complex_div_scalar(a, b) complex_ctr((a).x / (b), (a).y / (b))\n",
    "        #define conj(a) complex_ctr((a).x, -(a).y)\n",
    "        #define conj_transp(a) complex_ctr(-(a).y, (a).x)\n",
    "        #define conj_transp_and_mul(a, b) complex_ctr(-(a).y * (b), (a).x * (b))\n",
    "        \"\"\")\n",
    "\n",
    "complex_add = ElementwiseKernel(ctx,\n",
    "        \"float2 *x, \"\n",
    "        \"float2 *y, \"\n",
    "        \"float2 *z\",\n",
    "        \"z[i] = x[i] + y[i]\",\n",
    "        \"complex_add\")\n",
    "\n",
    "real_part = ElementwiseKernel(ctx,\n",
    "        \"float2 *x, float *z\",\n",
    "        \"z[i] = x[i].x\",\n",
    "        \"real_part\")\n",
    "\n",
    "c_gpu = cl_array.empty_like(a_gpu)\n",
    "complex_prod(5, a_gpu, b_gpu, c_gpu)\n",
    "\n",
    "c_gpu_real = cl_array.empty(queue, len(a_gpu), dtype=numpy.float32)\n",
    "real_part(c_gpu, c_gpu_real)\n",
    "print(c_gpu.get().real - c_gpu_real.get())\n",
    "\n",
    "print(la.norm(c_gpu.get() - (5*a_gpu.get()*b_gpu.get())))\n",
    "assert la.norm(c_gpu.get() - (5*a_gpu.get()*b_gpu.get())) < 1e-5\n"
   ]
  },
  {
   "cell_type": "code",
   "execution_count": null,
   "metadata": {
    "collapsed": true
   },
   "outputs": [],
   "source": []
  }
 ],
 "metadata": {
  "kernelspec": {
   "display_name": "Python 2",
   "language": "python",
   "name": "python2"
  },
  "language_info": {
   "codemirror_mode": {
    "name": "ipython",
    "version": 2
   },
   "file_extension": ".py",
   "mimetype": "text/x-python",
   "name": "python",
   "nbconvert_exporter": "python",
   "pygments_lexer": "ipython2",
   "version": "2.7.8"
  }
 },
 "nbformat": 4,
 "nbformat_minor": 0
}
