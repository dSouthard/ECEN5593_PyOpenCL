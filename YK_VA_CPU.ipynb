{
 "cells": [
  {
   "cell_type": "code",
   "execution_count": 1,
   "metadata": {
    "collapsed": false
   },
   "outputs": [
    {
     "name": "stdout",
     "output_type": "stream",
     "text": [
      "Populating the interactive namespace from numpy and matplotlib\n",
      "PyOpenCL version: 2015.1\n",
      "OpenCL header version: 1.2\n",
      "\n",
      "Numpy version: 1.11.1\n",
      "MatPlotLib version: 1.4.3\n",
      "Installed autotime.py. To use it, type:\n",
      "  %load_ext autotime\n"
     ]
    },
    {
     "name": "stderr",
     "output_type": "stream",
     "text": [
      "C:\\Anaconda2\\lib\\site-packages\\IPython\\core\\magics\\extension.py:47: UserWarning: %install_ext` is deprecated, please distribute your extension(s)as a python packages.\n",
      "  \"as a python packages.\", UserWarning)\n"
     ]
    }
   ],
   "source": [
    "#!/usr/bin/env python\n",
    "# -*- coding: utf-8 -*-\n",
    "from __future__ import absolute_import, print_function\n",
    "import pyopencl as cl\n",
    "import numpy as np\n",
    "import numpy.linalg as la\n",
    "from time import time\n",
    "import matplotlib.pyplot as plt\n",
    "%pylab inline \n",
    "\n",
    "VERBOSE = True\n",
    "MY_PLATFORM = \"AMD\" # AMD, Intel, Experimental\n",
    "MY_DEVICE = \"GPU\" # CPU, GPU, DEFAULT, ACCELERATOR \n",
    "MY_DEVICE_NUM = 0 # if multiple device types, i.e. multiple GPUs\n",
    "\n",
    "# Print version information\n",
    "print('PyOpenCL version: ' + cl.VERSION_TEXT)\n",
    "print('OpenCL header version: ' + '.'.join(map(str, cl.get_cl_header_version())) + '\\n')\n",
    "print(\"Numpy version: {0}\".format(np.__version__))\n",
    "print(\"MatPlotLib version: {0}\".format(matplotlib.__version__))\n",
    "\n",
    "%install_ext https://raw.github.com/cpcloud/ipython-autotime/master/autotime.py\n",
    "%load_ext autotime"
   ]
  },
  {
   "cell_type": "code",
   "execution_count": 2,
   "metadata": {
    "collapsed": false
   },
   "outputs": [
    {
     "name": "stdout",
     "output_type": "stream",
     "text": [
      "time: 32 ms\n"
     ]
    }
   ],
   "source": [
    "# choose a platform:\n",
    "def choose_platform(plat_choice):\n",
    "    my_platform = None\n",
    "    plat = cl.get_platforms()\n",
    "    try:\n",
    "        for i in range(len(plat)):\n",
    "            if (plat_choice.upper() in str(plat[i].name).upper()):\n",
    "                my_plat = plat[i]    \n",
    "        if (VERBOSE):\n",
    "            if (my_plat == None):\n",
    "                print (plat_choice, \"platform not found!\")\n",
    "            else:\n",
    "                print (\"Platform Selected:\", my_plat.name)\n",
    "    except:\n",
    "         print (\"Exception: Failed to get platform:\",plat_choice)\n",
    "    return my_plat\n",
    "\n",
    "# choose a device\n",
    "def choose_device(platform_choice,device_choice,device_num):\n",
    "    my_device = None\n",
    "    if (device_choice.upper() == \"CPU\"):\n",
    "        my_device = platform_choice.get_devices(cl.device_type.CPU)      \n",
    "    elif (device_choice.upper() == \"GPU\"):\n",
    "        my_device = platform_choice.get_devices(cl.device_type.GPU)\n",
    "    elif (device_choice.upper() == \"ACCELERATOR\"):\n",
    "        my_device = platform_choice.get_devices(cl.device_type.ACCELERATOR)\n",
    "    elif (device_choice.upper() == \"DEFAULT\"):\n",
    "        my_device = platform_choice.get_devices(cl.device_type.DEFAULT)\n",
    "        \n",
    "    if (VERBOSE >=1): print (\"Device Selected: %s (%s)\" % (my_device[device_num].name,device_choice.upper()))\n",
    "    \n",
    "    return my_device[device_num],\n",
    "\n",
    "# setup pyopencl with platform, device, context, and queue\n",
    "def setup_pyopencl(platform_choice,device_choice,device_num):\n",
    "    try:\n",
    "        platform = choose_platform(platform_choice)\n",
    "        device = choose_device(platform, device_choice,device_num)\n",
    "        context = cl.Context(device)\n",
    "        queue = cl.CommandQueue(context,properties=cl.command_queue_properties.PROFILING_ENABLE)    \n",
    "        return platform, device, context, queue\n",
    "    except:\n",
    "        print (\"Unable to set up pyopencl. Please try a different platform/device.\")\n",
    "        print (\"Make sure you have the correct platform selected.\")\n",
    "        return None, None, None, None"
   ]
  },
  {
   "cell_type": "code",
   "execution_count": 3,
   "metadata": {
    "collapsed": false
   },
   "outputs": [
    {
     "name": "stdout",
     "output_type": "stream",
     "text": [
      "time: 47 ms\n"
     ]
    }
   ],
   "source": [
    "# non-opencl vector add function:\n",
    "def python_vector_add(a,b):\n",
    "    vector_c = np.zeros(len(a)).astype(np.float32)\n",
    "    vector_c = a + b\n",
    "    return vector_c\n",
    "\n",
    "# pyopencl vector add kernel function:\n",
    "def pyopencl_kernel_vector_add(my_plat,my_dev,my_dev_num):\n",
    "    # OpenCL routines and objects\n",
    "    plat, dev, ctx, queue = setup_pyopencl(my_plat,my_dev,my_dev_num)\n",
    "    \n",
    "    if (VERBOSE >=2):\n",
    "        print (\"Platform:\",plat)\n",
    "        print (\"Device:\",dev)\n",
    "        print (\"Context:\",ctx)\n",
    "        print (\"Queue:\",queue)\n",
    "  \n",
    "    # OpenCL kernel code    \n",
    "    kernel_code = \"\"\"\n",
    "            __kernel void krnl_vecadd(__global const float * vector_a,\n",
    "                                      __global const float * vector_b, \n",
    "                                      __global float * vector_c) \n",
    "            {\n",
    "              int i = get_global_id(0); // Get the work-item’s unique ID\n",
    "              vector_c[i] = vector_a[i] + vector_b[i];\n",
    "            }\n",
    "    \"\"\"\n",
    "    prg = cl.Program(ctx,kernel_code).build()\n",
    "    return plat, dev, ctx, queue, prg\n",
    "\n",
    "\n",
    "# pyopencl vector add function:\n",
    "def pyopencl_vector_add(vector_a, vector_b, plat, dev, ctx, queue, prg):\n",
    "\n",
    "    t0 = time()#t0 = datetime.datetime.now()\n",
    "\n",
    "    # transfer from host to device\n",
    "    mf = cl.mem_flags\n",
    "    a_buf = cl.Buffer(ctx, mf.READ_ONLY | mf.COPY_HOST_PTR, hostbuf=vector_a)\n",
    "    b_buf = cl.Buffer(ctx, mf.READ_ONLY | mf.COPY_HOST_PTR, hostbuf=vector_b)\n",
    "    dest_buf = cl.Buffer(ctx, mf.WRITE_ONLY, vector_a.nbytes )\n",
    "    t1 = time()\n",
    "    \n",
    "    prg.krnl_vecadd(queue, vector_a.shape, None, a_buf, b_buf, dest_buf)\n",
    "    \n",
    "    final_vector = np.empty_like(vector_a)\n",
    "    t2 = time()\n",
    "    \n",
    "    # transfer from device back to host\n",
    "    cl.enqueue_copy(queue, final_vector , dest_buf).wait()\n",
    "    t3 = time()\n",
    "    \n",
    "    htd_time = t1 - t0 # host to device time\n",
    "    ocl_time = t2 - t1 # opencl time\n",
    "    dth_time = t3 - t2 # device to host time\n",
    "\n",
    "    if (VERBOSE >=2):\n",
    "        print ('OpenCL transfer to device: ' + str(htd_time))\n",
    "        print ('OpenCL Vector Addition: ' + str(t2 - t1))\n",
    "        print ('OpenCL transfer back to host: ' + str(t3-t2))\n",
    "    \n",
    "    return final_vector,htd_time,ocl_time,dth_time\n"
   ]
  },
  {
   "cell_type": "code",
   "execution_count": 4,
   "metadata": {
    "collapsed": false
   },
   "outputs": [
    {
     "name": "stdout",
     "output_type": "stream",
     "text": [
      "time: 18 ms\n"
     ]
    }
   ],
   "source": [
    "def run_bench(plat, dev, ctx, queue, prg, v_size=10):\n",
    "\n",
    "    t0 = time()\n",
    "    a = np.random.rand(v_size).astype(np.float32)\n",
    "    b = np.random.rand(v_size).astype(np.float32)\n",
    "    t1 = time()\n",
    "\n",
    "    x = (python_vector_add(a,b))\n",
    "    t2 = time()\n",
    "    y, htd_time,ocl_time,dth_time = (pyopencl_vector_add(a,b,plat, dev, ctx, queue, prg))\n",
    "    t3 = time()\n",
    "    \n",
    "    vec_gen_time = t1-t0\n",
    "    reg_va_time = t2-t1\n",
    "    ocl_va_time = t3-t2    \n",
    "    \n",
    "    return x,y,vec_gen_time,reg_va_time,ocl_va_time,htd_time,ocl_time,dth_time"
   ]
  },
  {
   "cell_type": "code",
   "execution_count": 5,
   "metadata": {
    "collapsed": false,
    "scrolled": false
   },
   "outputs": [
    {
     "name": "stdout",
     "output_type": "stream",
     "text": [
      "Platform Selected: AMD Accelerated Parallel Processing\n",
      "Device Selected: Intel(R) Core(TM) i7 CPU         920  @ 2.67GHz (CPU)\n",
      "Running test with vector size: 10000000\n",
      "Running test with vector size: 10020000\n",
      "Running test with vector size: 10040000\n",
      "Running test with vector size: 10060000\n",
      "Running test with vector size: 10080000\n",
      "Running test with vector size: 10100000\n",
      "Running test with vector size: 10120000\n",
      "Running test with vector size: 10140000\n",
      "Running test with vector size: 10160000\n",
      "Running test with vector size: 10180000\n",
      "Running test with vector size: 10200000\n",
      "Running test with vector size: 10220000\n",
      "Running test with vector size: 10240000\n",
      "Running test with vector size: 10260000\n",
      "Running test with vector size: 10280000\n",
      "Running test with vector size: 10300000\n",
      "Running test with vector size: 10320000\n",
      "Running test with vector size: 10340000\n",
      "Running test with vector size: 10360000\n",
      "Running test with vector size: 10380000\n",
      "Running test with vector size: 10400000\n",
      "Running test with vector size: 10420000\n",
      "Running test with vector size: 10440000\n",
      "Running test with vector size: 10460000\n",
      "Running test with vector size: 10480000\n",
      "Running test with vector size: 10500000\n",
      "Running test with vector size: 10520000\n",
      "Running test with vector size: 10540000\n",
      "Running test with vector size: 10560000\n",
      "Running test with vector size: 10580000\n",
      "Running test with vector size: 10600000\n",
      "Running test with vector size: 10620000\n",
      "Running test with vector size: 10640000\n",
      "Running test with vector size: 10660000\n",
      "Running test with vector size: 10680000\n",
      "Running test with vector size: 10700000\n",
      "Running test with vector size: 10720000\n",
      "Running test with vector size: 10740000\n",
      "Running test with vector size: 10760000\n",
      "Running test with vector size: 10780000\n",
      "Running test with vector size: 10800000\n",
      "Running test with vector size: 10820000\n",
      "Running test with vector size: 10840000\n",
      "Running test with vector size: 10860000\n",
      "Running test with vector size: 10880000\n",
      "Running test with vector size: 10900000\n",
      "Running test with vector size: 10920000\n",
      "Running test with vector size: 10940000\n",
      "Running test with vector size: 10960000\n",
      "Running test with vector size: 10980000\n",
      "Running test with vector size: 11000000\n",
      "Running test with vector size: 11020000\n",
      "Running test with vector size: 11040000\n",
      "Running test with vector size: 11060000\n",
      "Running test with vector size: 11080000\n",
      "Running test with vector size: 11100000\n",
      "Running test with vector size: 11120000\n",
      "Running test with vector size: 11140000\n",
      "Running test with vector size: 11160000\n",
      "Running test with vector size: 11180000\n",
      "Running test with vector size: 11200000\n",
      "Running test with vector size: 11220000\n",
      "Running test with vector size: 11240000\n",
      "Running test with vector size: 11260000\n",
      "Running test with vector size: 11280000\n",
      "Running test with vector size: 11300000\n",
      "Running test with vector size: 11320000\n",
      "Running test with vector size: 11340000\n",
      "Running test with vector size: 11360000\n",
      "Running test with vector size: 11380000\n",
      "Running test with vector size: 11400000\n",
      "Running test with vector size: 11420000\n",
      "Running test with vector size: 11440000\n",
      "Running test with vector size: 11460000\n",
      "Running test with vector size: 11480000\n",
      "Running test with vector size: 11500000\n",
      "Running test with vector size: 11520000\n",
      "Running test with vector size: 11540000\n",
      "Running test with vector size: 11560000\n",
      "Running test with vector size: 11580000\n",
      "Running test with vector size: 11600000\n",
      "Running test with vector size: 11620000\n",
      "Running test with vector size: 11640000\n",
      "Running test with vector size: 11660000\n",
      "Running test with vector size: 11680000\n",
      "Running test with vector size: 11700000\n",
      "Running test with vector size: 11720000\n",
      "Running test with vector size: 11740000\n",
      "Running test with vector size: 11760000\n",
      "Running test with vector size: 11780000\n",
      "Running test with vector size: 11800000\n",
      "Running test with vector size: 11820000\n",
      "Running test with vector size: 11840000\n",
      "Running test with vector size: 11860000\n",
      "Running test with vector size: 11880000\n",
      "Running test with vector size: 11900000\n",
      "Running test with vector size: 11920000\n",
      "Running test with vector size: 11940000\n",
      "Running test with vector size: 11960000\n",
      "Running test with vector size: 11980000\n",
      "Running test with vector size: 12000000\n",
      "time: 1min 14s\n"
     ]
    }
   ],
   "source": [
    "plats = [\"AMD\",\"INTEL\",\"EXPERIMENTAL\"]\n",
    "devs = [\"GPU\",\"CPU\"]\n",
    "\n",
    "MY_PLATFORM = \"AMD\"\n",
    "MY_DEVICE = \"CPU\"\n",
    "plat, dev, ctx, queue, prg = pyopencl_kernel_vector_add(MY_PLATFORM,MY_DEVICE,MY_DEVICE_NUM)\n",
    "\n",
    "# note only AMD has the GPU since I have a Radeon\n",
    "# largest size I tested with= 120000000*32 bits = 480 megabytes\n",
    "#test_sizes = [1000,10000,100000,1000000,10000000,100000000,120000000]\n",
    "test_sizes = range(10000000,12000001,20000)\n",
    "\n",
    "time_dict = {}\n",
    "VERBOSE = 1\n",
    "for test in test_sizes:\n",
    "    print (\"Running test with vector size:\", test)\n",
    "    time_list = []\n",
    "    #x,y,vec_time,va_time,oclva_time,htd_time,ocl_time,dth_time = run_bench(\"AMD\",\"CPU\",test,vlow=0.0,vhigh=1.0)\n",
    "    time_dict[test] = (run_bench(plat, dev, ctx, queue, prg, test))\n",
    "    VERBOSE = 0\n",
    "\n",
    "#print (\"Test vector sizes:\",test_sizes)\n",
    "#print(\"Matrix generation time:\", time_dict[test_sizes[1]][0][3], \"s\")\n",
    "# for key in time_dict:\n",
    "# time_dict[key][0]=x, 1=y, 2=mg_time, 3=mm_time, 4=oclmm_time, 5=htd_time, 6=ocl_time, 7=dth_time"
   ]
  },
  {
   "cell_type": "code",
   "execution_count": 6,
   "metadata": {
    "collapsed": false
   },
   "outputs": [
    {
     "data": {
      "image/png": "[encoded data removed]",
      "text/plain": [
       "<matplotlib.figure.Figure at 0x41d0518>"
      ]
     },
     "metadata": {},
     "output_type": "display_data"
    },
    {
     "name": "stdout",
     "output_type": "stream",
     "text": [
      "time: 667 ms\n"
     ]
    }
   ],
   "source": [
    "OCL_time = []\n",
    "OCL_kernel_time = []\n",
    "Serial_time = []\n",
    "vec_size = []\n",
    "\n",
    "for key in sorted(time_dict):\n",
    "    Serial_time.append(time_dict[key][3])\n",
    "    OCL_time.append(time_dict[key][4])\n",
    "    OCL_kernel_time.append(time_dict[key][6])\n",
    "    vec_size.append(key)\n",
    "    if (VERBOSE >=2): \n",
    "        print(\"\\nVector size:\", key)\n",
    "        print(\"Vector generation time:\", time_dict[key][2], \"s\")\n",
    "        print(\"Vector multiply time:\", time_dict[key][3], \"s\")\n",
    "        print(\"Total OpenCL VA time:\", time_dict[key][4], \"s\")\n",
    "        print(\"Transfer to device time: \", time_dict[key][5], \"s\")\n",
    "        print(\"OpenCL VA kernel time: \", time_dict[key][6], \"s\")\n",
    "        print(\"Transfer back to host time: \", time_dict[key][7], \"s\")\n",
    "\n",
    "fig = plt.figure(figsize=(6,12))\n",
    "fig.suptitle('Performance Comparison', fontsize = 14, fontweight = 'bold', y = 0.95)\n",
    "\n",
    "plt.subplot(211)\n",
    "plt.plot(vec_size, OCL_kernel_time, label='OpenCL Kernel Time on '+MY_DEVICE)\n",
    "plt.plot(vec_size, Serial_time, label='Host Calculation Time')\n",
    "plt.xlabel('Vector Size')\n",
    "plt.ylabel(\"Execution Time [s]\")\n",
    "plt.title('Serial compared to only OpenCL Kernel')\n",
    "plt.legend( bbox_to_anchor=(0.8, 1),ncol=1)\n",
    "plt.grid(True)\n",
    "\n",
    "plt.subplot(212)\n",
    "plt.plot(vec_size, OCL_time, label='Total OpenCL Time on '+MY_DEVICE)\n",
    "plt.plot(vec_size, Serial_time, label='Host Calculation Time')\n",
    "plt.xlabel('Vector Size')\n",
    "plt.ylabel(\"Execution Time [s]\")\n",
    "plt.title('Serial compared to OpenCL with I/O')\n",
    "plt.legend( bbox_to_anchor=(0.7, 1),ncol=1)\n",
    "plt.grid(True)\n",
    "\n",
    "plt.show()\n"
   ]
  },
  {
   "cell_type": "code",
   "execution_count": null,
   "metadata": {
    "collapsed": true
   },
   "outputs": [],
   "source": []
  }
 ],
 "metadata": {
  "kernelspec": {
   "display_name": "Python 2",
   "language": "python",
   "name": "python2"
  },
  "language_info": {
   "codemirror_mode": {
    "name": "ipython",
    "version": 2
   },
   "file_extension": ".py",
   "mimetype": "text/x-python",
   "name": "python",
   "nbconvert_exporter": "python",
   "pygments_lexer": "ipython2",
   "version": "2.7.10"
  }
 },
 "nbformat": 4,
 "nbformat_minor": 0
}
