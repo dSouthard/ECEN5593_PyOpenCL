{
 "cells": [
  {
   "cell_type": "code",
   "execution_count": 2,
   "metadata": {
    "collapsed": false
   },
   "outputs": [
    {
     "name": "stderr",
     "output_type": "stream",
     "text": [
      "Usage: __main__.py [options]\n",
      "\n",
      "__main__.py: error: no such option: -f\n"
     ]
    },
    {
     "ename": "SystemExit",
     "evalue": "2",
     "output_type": "error",
     "traceback": [
      "An exception has occurred, use %tb to see the full traceback.\n",
      "\u001b[1;31mSystemExit\u001b[0m\u001b[1;31m:\u001b[0m 2\n"
     ]
    },
    {
     "name": "stderr",
     "output_type": "stream",
     "text": [
      "To exit: use 'exit', 'quit', or Ctrl-D.\n"
     ]
    }
   ],
   "source": [
    "from __future__ import absolute_import\n",
    "from __future__ import print_function\n",
    "import pyopencl as cl\n",
    "from optparse import OptionParser\n",
    "\n",
    "parser = OptionParser()\n",
    "parser.add_option(\"-s\", \"--short\", action=\"store_true\",\n",
    "                  help=\"don't print all device properties\")\n",
    "\n",
    "(options, args) = parser.parse_args()\n",
    "\n",
    "\n",
    "def print_info(obj, info_cls):\n",
    "    for info_name in sorted(dir(info_cls)):\n",
    "        if not info_name.startswith(\"_\") and info_name != \"to_string\":\n",
    "            info = getattr(info_cls, info_name)\n",
    "            try:\n",
    "                info_value = obj.get_info(info)\n",
    "            except:\n",
    "                info_value = \"<error>\"\n",
    "\n",
    "            if (info_cls == cl.device_info and info_name == \"PARTITION_TYPES_EXT\"\n",
    "                    and isinstance(info_value, list)):\n",
    "                print(\"%s: %s\" % (info_name, [\n",
    "                    cl.device_partition_property_ext.to_string(v,\n",
    "                        \"<unknown device partition property %d>\")\n",
    "                    for v in info_value]))\n",
    "            else:\n",
    "                try:\n",
    "                    print(\"%s: %s\" % (info_name, info_value))\n",
    "                except:\n",
    "                    print(\"%s: <error>\" % info_name)\n",
    "\n",
    "for platform in cl.get_platforms():\n",
    "    print(75*\"=\")\n",
    "    print(platform)\n",
    "    print(75*\"=\")\n",
    "    if not options.short:\n",
    "        print_info(platform, cl.platform_info)\n",
    "\n",
    "    for device in platform.get_devices():\n",
    "        if not options.short:\n",
    "            print(75*\"-\")\n",
    "        print(device)\n",
    "        if not options.short:\n",
    "            print(75*\"-\")\n",
    "            print_info(device, cl.device_info)\n",
    "            ctx = cl.Context([device])\n",
    "            for mf in [\n",
    "                    cl.mem_flags.READ_ONLY,\n",
    "                    #cl.mem_flags.READ_WRITE,\n",
    "                    #cl.mem_flags.WRITE_ONLY\n",
    "                    ]:\n",
    "                for itype in [\n",
    "                        cl.mem_object_type.IMAGE2D,\n",
    "                        cl.mem_object_type.IMAGE3D\n",
    "                        ]:\n",
    "                    try:\n",
    "                        formats = cl.get_supported_image_formats(ctx, mf, itype)\n",
    "                    except:\n",
    "                        formats = \"<error>\"\n",
    "                    else:\n",
    "                        def str_chd_type(chdtype):\n",
    "                            result = cl.channel_type.to_string(chdtype,\n",
    "                                    \"<unknown channel data type %d>\")\n",
    "\n",
    "                            result = result.replace(\"_INT\", \"\")\n",
    "                            result = result.replace(\"UNSIGNED\", \"U\")\n",
    "                            result = result.replace(\"SIGNED\", \"S\")\n",
    "                            result = result.replace(\"NORM\", \"N\")\n",
    "                            result = result.replace(\"FLOAT\", \"F\")\n",
    "                            return result\n",
    "\n",
    "                        formats = \", \".join(\n",
    "                                \"%s-%s\" % (\n",
    "                                    cl.channel_order.to_string(iform.channel_order,\n",
    "                                        \"<unknown channel order 0x%x>\"),\n",
    "                                    str_chd_type(iform.channel_data_type))\n",
    "                                for iform in formats)\n",
    "\n",
    "                    print(\"%s %s FORMATS: %s\\n\" % (\n",
    "                            cl.mem_object_type.to_string(itype),\n",
    "                            cl.mem_flags.to_string(mf),\n",
    "                            formats))\n",
    "            del ctx\n"
   ]
  },
  {
   "cell_type": "code",
   "execution_count": null,
   "metadata": {
    "collapsed": true
   },
   "outputs": [],
   "source": []
  }
 ],
 "metadata": {
  "kernelspec": {
   "display_name": "Python 2",
   "language": "python",
   "name": "python2"
  },
  "language_info": {
   "codemirror_mode": {
    "name": "ipython",
    "version": 2
   },
   "file_extension": ".py",
   "mimetype": "text/x-python",
   "name": "python",
   "nbconvert_exporter": "python",
   "pygments_lexer": "ipython2",
   "version": "2.7.8"
  }
 },
 "nbformat": 4,
 "nbformat_minor": 0
}
