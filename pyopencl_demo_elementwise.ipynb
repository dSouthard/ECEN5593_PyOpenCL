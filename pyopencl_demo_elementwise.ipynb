{
 "cells": [
  {
   "cell_type": "code",
   "execution_count": 1,
   "metadata": {
    "collapsed": false
   },
   "outputs": [
    {
     "name": "stdout",
     "output_type": "stream",
     "text": [
      "[ 0.  0.  0.  0.  0.  0.  0.  0.  0.  0.]\n",
      "[ 0.  0.  0.  0.  0.  0.  0.  0.  0.  0.]\n",
      "0.0\n"
     ]
    },
    {
     "name": "stderr",
     "output_type": "stream",
     "text": [
      "/usr/lib64/python2.7/site-packages/pyopencl-2015.2.4-py2.7-linux-x86_64.egg/pyopencl/__init__.py:206: CompilerWarning: Non-empty compiler output encountered. Set the environment variable PYOPENCL_COMPILER_OUTPUT=1 to see more.\n",
      "  \"to see more.\", CompilerWarning)\n"
     ]
    }
   ],
   "source": [
    "from __future__ import absolute_import\n",
    "from __future__ import print_function\n",
    "#!/usr/bin/env python\n",
    "# -*- coding: utf-8 -*-\n",
    "\n",
    "import numpy as np\n",
    "import pyopencl as cl\n",
    "import pyopencl.array\n",
    "from pyopencl.elementwise import ElementwiseKernel\n",
    "\n",
    "n = 10\n",
    "a_np = np.random.randn(n).astype(np.float32)\n",
    "b_np = np.random.randn(n).astype(np.float32)\n",
    "\n",
    "ctx = cl.create_some_context()\n",
    "queue = cl.CommandQueue(ctx)\n",
    "\n",
    "a_g = cl.array.to_device(queue, a_np)\n",
    "b_g = cl.array.to_device(queue, b_np)\n",
    "\n",
    "lin_comb = ElementwiseKernel(ctx,\n",
    "    \"float k1, float *a_g, float k2, float *b_g, float *res_g\",\n",
    "    \"res_g[i] = k1 * a_g[i] + k2 * b_g[i]\",\n",
    "    \"lin_comb\"\n",
    ")\n",
    "\n",
    "res_g = cl.array.empty_like(a_g)\n",
    "lin_comb(2, a_g, 3, b_g, res_g)\n",
    "\n",
    "# Check on GPU with PyOpenCL Array:\n",
    "print((res_g - (2 * a_g + 3 * b_g)).get())\n",
    "\n",
    "# Check on CPU with Numpy:\n",
    "res_np = res_g.get()\n",
    "print(res_np - (2 * a_np + 3 * b_np))\n",
    "print(np.linalg.norm(res_np - (2 * a_np + 3 * b_np)))\n"
   ]
  },
  {
   "cell_type": "code",
   "execution_count": null,
   "metadata": {
    "collapsed": true
   },
   "outputs": [],
   "source": []
  }
 ],
 "metadata": {
  "kernelspec": {
   "display_name": "Python 2",
   "language": "python",
   "name": "python2"
  },
  "language_info": {
   "codemirror_mode": {
    "name": "ipython",
    "version": 2
   },
   "file_extension": ".py",
   "mimetype": "text/x-python",
   "name": "python",
   "nbconvert_exporter": "python",
   "pygments_lexer": "ipython2",
   "version": "2.7.8"
  }
 },
 "nbformat": 4,
 "nbformat_minor": 0
}
