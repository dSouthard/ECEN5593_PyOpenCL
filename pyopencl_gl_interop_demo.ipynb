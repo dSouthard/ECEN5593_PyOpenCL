{
 "cells": [
  {
   "cell_type": "code",
   "execution_count": 1,
   "metadata": {
    "collapsed": false
   },
   "outputs": [
    {
     "ename": "ImportError",
     "evalue": "No module named OpenGL.GL",
     "output_type": "error",
     "traceback": [
      "\u001b[1;31m---------------------------------------------------------------------------\u001b[0m",
      "\u001b[1;31mImportError\u001b[0m                               Traceback (most recent call last)",
      "\u001b[1;32m<ipython-input-1-b224e01fb5fd>\u001b[0m in \u001b[0;36m<module>\u001b[1;34m()\u001b[0m\n\u001b[0;32m      1\u001b[0m \u001b[1;32mfrom\u001b[0m \u001b[0m__future__\u001b[0m \u001b[1;32mimport\u001b[0m \u001b[0mabsolute_import\u001b[0m\u001b[1;33m\u001b[0m\u001b[0m\n\u001b[1;32m----> 2\u001b[1;33m \u001b[1;32mfrom\u001b[0m \u001b[0mOpenGL\u001b[0m\u001b[1;33m.\u001b[0m\u001b[0mGL\u001b[0m \u001b[1;32mimport\u001b[0m \u001b[1;33m*\u001b[0m\u001b[1;33m\u001b[0m\u001b[0m\n\u001b[0m\u001b[0;32m      3\u001b[0m \u001b[1;32mfrom\u001b[0m \u001b[0mOpenGL\u001b[0m\u001b[1;33m.\u001b[0m\u001b[0mGLUT\u001b[0m \u001b[1;32mimport\u001b[0m \u001b[1;33m*\u001b[0m\u001b[1;33m\u001b[0m\u001b[0m\n\u001b[0;32m      4\u001b[0m \u001b[1;32mfrom\u001b[0m \u001b[0mOpenGL\u001b[0m\u001b[1;33m.\u001b[0m\u001b[0mraw\u001b[0m\u001b[1;33m.\u001b[0m\u001b[0mGL\u001b[0m\u001b[1;33m.\u001b[0m\u001b[0mVERSION\u001b[0m\u001b[1;33m.\u001b[0m\u001b[0mGL_1_5\u001b[0m \u001b[1;32mimport\u001b[0m \u001b[0mglBufferData\u001b[0m \u001b[1;32mas\u001b[0m \u001b[0mrawGlBufferData\u001b[0m\u001b[1;33m\u001b[0m\u001b[0m\n\u001b[0;32m      5\u001b[0m \u001b[1;32mimport\u001b[0m \u001b[0mpyopencl\u001b[0m \u001b[1;32mas\u001b[0m \u001b[0mcl\u001b[0m\u001b[1;33m\u001b[0m\u001b[0m\n",
      "\u001b[1;31mImportError\u001b[0m: No module named OpenGL.GL"
     ]
    }
   ],
   "source": [
    "from __future__ import absolute_import\n",
    "from OpenGL.GL import *\n",
    "from OpenGL.GLUT import *\n",
    "from OpenGL.raw.GL.VERSION.GL_1_5 import glBufferData as rawGlBufferData\n",
    "import pyopencl as cl\n",
    "\n",
    "\n",
    "n_vertices = 10000\n",
    "\n",
    "src = \"\"\"\n",
    "\n",
    "__kernel void generate_sin(__global float2* a)\n",
    "{\n",
    "    int id = get_global_id(0);\n",
    "    int n = get_global_size(0);\n",
    "    float r = (float)id / (float)n;\n",
    "    float x = r * 16.0f * 3.1415f;\n",
    "    a[id].x = r * 2.0f - 1.0f;\n",
    "    a[id].y = native_sin(x);\n",
    "}\n",
    "\n",
    "\"\"\"\n",
    "\n",
    "def initialize():\n",
    "    platform = cl.get_platforms()[0]\n",
    "\n",
    "    from pyopencl.tools import get_gl_sharing_context_properties\n",
    "    import sys\n",
    "    if sys.platform == \"darwin\":\n",
    "        ctx = cl.Context(properties=get_gl_sharing_context_properties(),\n",
    "                devices=[])\n",
    "    else:\n",
    "        # Some OSs prefer clCreateContextFromType, some prefer\n",
    "        # clCreateContext. Try both.\n",
    "        try:\n",
    "            ctx = cl.Context(properties=[\n",
    "                (cl.context_properties.PLATFORM, platform)]\n",
    "                + get_gl_sharing_context_properties())\n",
    "        except:\n",
    "            ctx = cl.Context(properties=[\n",
    "                (cl.context_properties.PLATFORM, platform)]\n",
    "                + get_gl_sharing_context_properties(),\n",
    "                devices = [platform.get_devices()[0]])\n",
    "\n",
    "    glClearColor(1, 1, 1, 1)\n",
    "    glColor(0, 0, 1)\n",
    "    vbo = glGenBuffers(1)\n",
    "    glBindBuffer(GL_ARRAY_BUFFER, vbo)\n",
    "    rawGlBufferData(GL_ARRAY_BUFFER, n_vertices * 2 * 4, None, GL_STATIC_DRAW)\n",
    "    glEnableClientState(GL_VERTEX_ARRAY)\n",
    "    glVertexPointer(2, GL_FLOAT, 0, None)\n",
    "    coords_dev = cl.GLBuffer(ctx, cl.mem_flags.READ_WRITE, int(vbo))\n",
    "    prog = cl.Program(ctx, src).build()\n",
    "    queue = cl.CommandQueue(ctx)\n",
    "    cl.enqueue_acquire_gl_objects(queue, [coords_dev])\n",
    "    prog.generate_sin(queue, (n_vertices,), None, coords_dev)\n",
    "    cl.enqueue_release_gl_objects(queue, [coords_dev])\n",
    "    queue.finish()\n",
    "    glFlush()\n",
    "\n",
    "def display():\n",
    "    glClear(GL_COLOR_BUFFER_BIT)\n",
    "    glDrawArrays(GL_LINE_STRIP, 0, n_vertices)\n",
    "    glFlush()\n",
    "\n",
    "def reshape(w, h):\n",
    "    glViewport(0, 0, w, h)\n",
    "    glMatrixMode(GL_PROJECTION)\n",
    "    glLoadIdentity()\n",
    "    glMatrixMode(GL_MODELVIEW)\n",
    "\n",
    "if __name__ == '__main__':\n",
    "    import sys\n",
    "    glutInit(sys.argv)\n",
    "    if len(sys.argv) > 1:\n",
    "        n_vertices = int(sys.argv[1])\n",
    "    glutInitWindowSize(800, 160)\n",
    "    glutInitWindowPosition(0, 0)\n",
    "    glutCreateWindow('OpenCL/OpenGL Interop Tutorial: Sin Generator')\n",
    "    glutDisplayFunc(display)\n",
    "    glutReshapeFunc(reshape)\n",
    "    initialize()\n",
    "    glutMainLoop()\n"
   ]
  },
  {
   "cell_type": "code",
   "execution_count": null,
   "metadata": {
    "collapsed": true
   },
   "outputs": [],
   "source": []
  }
 ],
 "metadata": {
  "kernelspec": {
   "display_name": "Python 2",
   "language": "python",
   "name": "python2"
  },
  "language_info": {
   "codemirror_mode": {
    "name": "ipython",
    "version": 2
   },
   "file_extension": ".py",
   "mimetype": "text/x-python",
   "name": "python",
   "nbconvert_exporter": "python",
   "pygments_lexer": "ipython2",
   "version": "2.7.8"
  }
 },
 "nbformat": 4,
 "nbformat_minor": 0
}
