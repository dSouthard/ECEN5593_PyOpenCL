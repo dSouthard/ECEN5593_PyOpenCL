{
 "cells": [
  {
   "cell_type": "code",
   "execution_count": 1,
   "metadata": {
    "collapsed": false
   },
   "outputs": [
    {
     "name": "stdout",
     "output_type": "stream",
     "text": [
      "command latency: 7.37162e-05 s\n",
      "profiling overhead: 7.63685e-07 s -> 1.0 %\n"
     ]
    },
    {
     "name": "stderr",
     "output_type": "stream",
     "text": [
      "/usr/lib64/python2.7/site-packages/pyopencl-2015.2.4-py2.7-linux-x86_64.egg/pyopencl/__init__.py:206: CompilerWarning: Non-empty compiler output encountered. Set the environment variable PYOPENCL_COMPILER_OUTPUT=1 to see more.\n",
      "  \"to see more.\", CompilerWarning)\n"
     ]
    },
    {
     "name": "stdout",
     "output_type": "stream",
     "text": [
      "empty kernel: 4.07128e-05 s\n",
      "128 3185244.15768 0\n",
      "256 6512595.66974 0\n",
      "512 12981222.5594 0\n",
      "1024 27598737.6196 0\n",
      "2048 54739326.4558 0\n",
      "4096 115865884.447 0\n",
      "8192 231135025.526 0\n",
      "16384 499564562.312 0\n",
      "32768 992921504.29 0\n",
      "65536 1590694107.88 0\n",
      "131072 3232330690.17 0\n",
      "262144 5529334533.28 0\n",
      "524288 10698386498.5 0\n",
      "1048576 19065134504.8 0\n",
      "2097152 38375119356.6 0\n",
      "4194304 56868571756.9 0\n",
      "8388608 1.34045916218e+11 0\n",
      "16777216 2.10099462173e+11 0\n",
      "33554432 4.18929367975e+11 0\n",
      "67108864 6.32411271805e+11 0\n",
      "134217728 1.29377872263e+12 0\n",
      "268435456 1.78825081341e+12 0\n",
      "536870912 3.66167662408e+12 0\n",
      "1073741824 4.67461723765e+12 0\n",
      "2147483648 5.86039679389e+12 0\n",
      "4294967296 1163801052.02 0\n",
      "8589934592 1129448953.11 1\n",
      "17179869184 1167449810.42 2\n",
      "34359738368 1168189630.94 3\n",
      "float32 add: 2.9302e+06 GOps/s\n",
      "----------------------------------------\n",
      "HostToDeviceTransfer\n",
      "----------------------------------------\n",
      "latency: 0.000103787 s\n",
      "bandwidth @ 64 bytes: 0.000520113 GB/s\n",
      "bandwidth @ 256 bytes: 0.00248445 GB/s\n",
      "bandwidth @ 1024 bytes: 0.00984989 GB/s\n",
      "bandwidth @ 4096 bytes: 0.0389302 GB/s\n",
      "bandwidth @ 16384 bytes: 0.149045 GB/s\n",
      "bandwidth @ 65536 bytes: 0.292102 GB/s\n",
      "bandwidth @ 262144 bytes: 0.81223 GB/s\n",
      "bandwidth @ 1048576 bytes: 2.36101 GB/s\n",
      "bandwidth @ 4194304 bytes: 3.21699 GB/s\n",
      "bandwidth @ 16777216 bytes: 1.92236 GB/s\n",
      "bandwidth @ 67108864 bytes: 0.628542 GB/s\n",
      "----------------------------------------\n",
      "DeviceToHostTransfer\n",
      "----------------------------------------\n",
      "latency: 0.000183007 s\n",
      "bandwidth @ 64 bytes: 0.000338829 GB/s\n",
      "bandwidth @ 256 bytes: 0.00151822 GB/s\n",
      "bandwidth @ 1024 bytes: 0.00939082 GB/s\n",
      "bandwidth @ 4096 bytes: 0.0372226 GB/s\n",
      "bandwidth @ 16384 bytes: 0.0849087 GB/s\n",
      "bandwidth @ 65536 bytes: 0.305766 GB/s\n",
      "bandwidth @ 262144 bytes: 0.985376 GB/s\n",
      "bandwidth @ 1048576 bytes: 3.6174 GB/s\n",
      "bandwidth @ 4194304 bytes: 6.71001 GB/s\n",
      "bandwidth @ 16777216 bytes: 2.87917 GB/s\n",
      "bandwidth @ 67108864 bytes: 3.34841 GB/s\n",
      "----------------------------------------\n",
      "DeviceToDeviceTransfer\n",
      "----------------------------------------\n",
      "latency: 7.44039e-05 s\n",
      "bandwidth @ 64 bytes: 0.000500289 GB/s\n",
      "bandwidth @ 256 bytes: 0.00201835 GB/s\n",
      "bandwidth @ 1024 bytes: 0.00975008 GB/s\n",
      "bandwidth @ 4096 bytes: 0.0546425 GB/s\n",
      "bandwidth @ 16384 bytes: 0.220898 GB/s\n",
      "bandwidth @ 65536 bytes: 0.82382 GB/s\n",
      "bandwidth @ 262144 bytes: 3.72645 GB/s\n",
      "bandwidth @ 1048576 bytes: 17.9939 GB/s\n",
      "bandwidth @ 4194304 bytes: 16.5625 GB/s\n",
      "bandwidth @ 16777216 bytes: 2.52382 GB/s\n",
      "bandwidth @ 67108864 bytes: 2.50874 GB/s\n"
     ]
    }
   ],
   "source": [
    "from __future__ import division\n",
    "from __future__ import absolute_import\n",
    "from __future__ import print_function\n",
    "import pyopencl as cl\n",
    "import pyopencl.characterize.performance as perf\n",
    "from six.moves import range\n",
    "\n",
    "\n",
    "\n",
    "\n",
    "def main():\n",
    "    ctx = cl.create_some_context()\n",
    "\n",
    "    prof_overhead, latency = perf.get_profiling_overhead(ctx)\n",
    "    print(\"command latency: %g s\" % latency)\n",
    "    print(\"profiling overhead: %g s -> %.1f %%\" % (\n",
    "            prof_overhead, 100*prof_overhead/latency))\n",
    "    queue = cl.CommandQueue(ctx, properties=cl.command_queue_properties.PROFILING_ENABLE)\n",
    "\n",
    "    print(\"empty kernel: %g s\" % perf.get_empty_kernel_time(queue))\n",
    "    print(\"float32 add: %g GOps/s\" % (perf.get_add_rate(queue)/1e9))\n",
    "\n",
    "    for tx_type in [\n",
    "            perf.HostToDeviceTransfer,\n",
    "            perf.DeviceToHostTransfer,\n",
    "            perf.DeviceToDeviceTransfer]:\n",
    "        print(\"----------------------------------------\")\n",
    "        print(tx_type.__name__)\n",
    "        print(\"----------------------------------------\")\n",
    "\n",
    "        print(\"latency: %g s\" % perf.transfer_latency(queue, tx_type))\n",
    "        for i in range(6, 28, 2):\n",
    "            bs = 1<<i\n",
    "            print(\"bandwidth @ %d bytes: %g GB/s\" % (\n",
    "                    bs, perf.transfer_bandwidth(queue, tx_type, bs)/1e9))\n",
    "\n",
    "\n",
    "\n",
    "\n",
    "if __name__ == \"__main__\":\n",
    "    main()\n"
   ]
  },
  {
   "cell_type": "code",
   "execution_count": null,
   "metadata": {
    "collapsed": true
   },
   "outputs": [],
   "source": []
  }
 ],
 "metadata": {
  "kernelspec": {
   "display_name": "Python 2",
   "language": "python",
   "name": "python2"
  },
  "language_info": {
   "codemirror_mode": {
    "name": "ipython",
    "version": 2
   },
   "file_extension": ".py",
   "mimetype": "text/x-python",
   "name": "python",
   "nbconvert_exporter": "python",
   "pygments_lexer": "ipython2",
   "version": "2.7.8"
  }
 },
 "nbformat": 4,
 "nbformat_minor": 0
}
