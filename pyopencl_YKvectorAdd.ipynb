{
 "cells": [
  {
   "cell_type": "code",
   "execution_count": null,
   "metadata": {
    "collapsed": false
   },
   "outputs": [],
   "source": [
    "# timing all of the cells\n",
    "#%install_ext https://raw.github.com/cpcloud/ipython-autotime/master/autotime.py\n",
    "#%load_ext autotime"
   ]
  },
  {
   "cell_type": "code",
   "execution_count": null,
   "metadata": {
    "collapsed": false
   },
   "outputs": [],
   "source": [
    "# coding: utf-8\n",
    "\n",
    "import pyopencl as cl\n",
    "import numpy as np\n",
    "import time\n",
    "\n",
    "# Get opencl devices:\n",
    "plat = cl.get_platforms()\n",
    "devices = plat[0].get_devices()\n",
    "\n",
    "for i in range(len(devices)):\n",
    "    print 'Discovered device:',i,devices[i]\n",
    "\n",
    "\n",
    "# OpenCL vector addition function\n",
    "def opencl_vectorAdd(a, b, ctx):\n",
    "\n",
    "    queue = cl.CommandQueue(ctx) # create a queue to schedule the kernel to run on the device\n",
    "\n",
    "    # Create memory buffers\n",
    "    mf = cl.mem_flags\n",
    "    a_buf = cl.Buffer(ctx, mf.READ_ONLY | mf.COPY_HOST_PTR, hostbuf=a)\n",
    "    b_buf = cl.Buffer(ctx, mf.READ_ONLY | mf.COPY_HOST_PTR, hostbuf=b)\n",
    "    dest_buf = cl.Buffer(ctx, mf.WRITE_ONLY, b.nbytes)\n",
    "\n",
    "    # OpenCL code \n",
    "    prg = cl.Program(ctx, \"\"\"\n",
    "        __kernel \n",
    "        void vectorAdd(\n",
    "                        __global float *output,\n",
    "                        __global const float *in_A,\n",
    "                        __global const float *in_B)\n",
    "        {\n",
    "            int id = get_global_id(0);        // get global thread ID\n",
    "            //output[id] = in_A[id] + in_B[id]; // perform vector adition\n",
    "            output[id] = in_A[id] + in_B[id] + 1;\n",
    "        }\n",
    "        \"\"\").build()\n",
    "\n",
    "    result = np.empty_like(a) # place to store the result\n",
    "    prg.vectorAdd(queue, a.shape, None, dest_buf, a_buf, b_buf).wait() # do the vector add\n",
    "    cl.enqueue_copy(queue, result, dest_buf) # copy the results from buffer into result\n",
    "    #print \"\\nresult\",result    \n",
    "    return result\n",
    "\n",
    "\n",
    "# Python vector addition function\n",
    "def py_vectorAdd(vec_a, vec_b):\n",
    "    vec_c = np.zeros(len(vec_a))\n",
    "    if len(vec_a) != len(vec_b):\n",
    "        print \"Vector A is not the same size as vector B.\"\n",
    "        print \"Vector A has length\", len(vec_a),\n",
    "        print \"while vector B has length\", len(vec_b)\n",
    "    else:\n",
    "        for i in range(len(vec_c)):\n",
    "            vec_c[i] = vec_a[i] + vec_b[i]\n",
    "    return vec_c\n",
    "\n",
    "# Test \n",
    "a = np.arange(0,55,5).astype(np.float32)\n",
    "b = np.arange(0,55,5).astype(np.float32)\n",
    "print \"Vector A:\\n\", a, \"\\nVector B:\\n\", b, \"\\nResults:\"\n",
    "print py_vectorAdd(a,b)\n",
    "for i in range(len(devices)):\n",
    "    print opencl_vectorAdd(a, b, cl.Context([devices[i]]))\n",
    "\n",
    "# Execution time comparisons:\n",
    "\n",
    "ex_time = np.zeros(3)\n",
    "\n",
    "sz = 10000000\n",
    "a = np.random.rand(sz).astype(np.float32)\n",
    "b = np.random.rand(sz).astype(np.float32)\n",
    "\n",
    "start = time.time()\n",
    "py_vectorAdd(a,b)\n",
    "end = time.time()\n",
    "ex_time[0] = end - start\n",
    "\n",
    "print \"\\nTime taken for python vector_add:\\n {0} seconds\".format(ex_time[0])\n",
    "\n",
    "#start = time.time()\n",
    "#opencl_vectorAdd(a, b, ctx=ctx_gpu)\n",
    "#end = time.time()\n",
    "#print \"Time taken for OpenCL GPU vector_add: {0} seconds\".format(end - start)\n",
    "\n",
    "#start = time.time()\n",
    "#opencl_vectorAdd(a, b, ctx=ctx_cpu)\n",
    "#end = time.time()\n",
    "#print \"Time taken for OpenCL CPU vector_add: {0} seconds\".format(end - start)\n",
    "\n",
    "for dev in range(len(devices)):\n",
    "    start = time.time()\n",
    "    opencl_vectorAdd(a, b, cl.Context([devices[dev]]))\n",
    "    end = time.time()\n",
    "    ex_time[dev+1] = end - start\n",
    "    print \"Time taken for OpenCL vector_add on:\", str(devices[dev]).split('\\'')[1], \"\\n {0} seconds\".format(ex_time[dev+1])\n",
    "\n"
   ]
  },
  {
   "cell_type": "code",
   "execution_count": null,
   "metadata": {
    "collapsed": false
   },
   "outputs": [],
   "source": []
  },
  {
   "cell_type": "code",
   "execution_count": null,
   "metadata": {
    "collapsed": false
   },
   "outputs": [],
   "source": []
  },
  {
   "cell_type": "code",
   "execution_count": null,
   "metadata": {
    "collapsed": true
   },
   "outputs": [],
   "source": []
  }
 ],
 "metadata": {
  "kernelspec": {
   "display_name": "Python 2",
   "language": "python",
   "name": "python2"
  },
  "language_info": {
   "codemirror_mode": {
    "name": "ipython",
    "version": 2
   },
   "file_extension": ".py",
   "mimetype": "text/x-python",
   "name": "python",
   "nbconvert_exporter": "python",
   "pygments_lexer": "ipython2",
   "version": "2.7.8"
  }
 },
 "nbformat": 4,
 "nbformat_minor": 0
}
