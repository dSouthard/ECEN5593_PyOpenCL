{
 "cells": [
  {
   "cell_type": "code",
   "execution_count": 1,
   "metadata": {
    "collapsed": false
   },
   "outputs": [
    {
     "name": "stderr",
     "output_type": "stream",
     "text": [
      "/usr/lib64/python2.7/site-packages/pyopencl-2015.2.4-py2.7-linux-x86_64.egg/pyopencl/__init__.py:206: CompilerWarning: Non-empty compiler output encountered. Set the environment variable PYOPENCL_COMPILER_OUTPUT=1 to see more.\n",
      "  \"to see more.\", CompilerWarning)\n",
      "/usr/lib/python2.7/site-packages/ipykernel/__main__.py:52: DeprecationWarning: 'enqueue_read_buffer' has been deprecated in version 2011.1. Please use enqueue_copy() instead.\n"
     ]
    }
   ],
   "source": [
    "from __future__ import absolute_import\n",
    "import pyopencl as cl\n",
    "import numpy\n",
    "import numpy.linalg as la\n",
    "\n",
    "local_size = 256\n",
    "thread_strides = 32\n",
    "macroblock_count = 33\n",
    "dtype = numpy.float32\n",
    "total_size = local_size*thread_strides*macroblock_count\n",
    "\n",
    "ctx = cl.create_some_context()\n",
    "queue = cl.CommandQueue(ctx)\n",
    "\n",
    "a = numpy.random.randn(total_size).astype(dtype)\n",
    "b = numpy.random.randn(total_size).astype(dtype)\n",
    "\n",
    "mf = cl.mem_flags\n",
    "a_buf = cl.Buffer(ctx, mf.READ_ONLY | mf.COPY_HOST_PTR, hostbuf=a)\n",
    "b_buf = cl.Buffer(ctx, mf.READ_ONLY | mf.COPY_HOST_PTR, hostbuf=b)\n",
    "c_buf = cl.Buffer(ctx, mf.WRITE_ONLY, b.nbytes)\n",
    "\n",
    "from mako.template import Template\n",
    "\n",
    "tpl = Template(\"\"\"\n",
    "    __kernel void add(\n",
    "            __global ${ type_name } *tgt, \n",
    "            __global const ${ type_name } *op1, \n",
    "            __global const ${ type_name } *op2)\n",
    "    {\n",
    "      int idx = get_local_id(0)\n",
    "        + ${ local_size } * ${ thread_strides }\n",
    "        * get_group_id(0);\n",
    "\n",
    "      % for i in range(thread_strides):\n",
    "          <% offset = i*local_size %>\n",
    "          tgt[idx + ${ offset }] = \n",
    "            op1[idx + ${ offset }] \n",
    "            + op2[idx + ${ offset } ];\n",
    "      % endfor\n",
    "    }\"\"\")\n",
    "\n",
    "rendered_tpl = tpl.render(type_name=\"float\", \n",
    "    local_size=local_size, thread_strides=thread_strides)\n",
    "\n",
    "knl = cl.Program(ctx, str(rendered_tpl)).build().add\n",
    "\n",
    "knl(queue, (local_size*macroblock_count,), (local_size,),\n",
    "        c_buf, a_buf, b_buf)\n",
    "\n",
    "c = numpy.empty_like(a)\n",
    "cl.enqueue_read_buffer(queue, c_buf, c).wait()\n",
    "\n",
    "assert la.norm(c-(a+b)) == 0\n"
   ]
  },
  {
   "cell_type": "code",
   "execution_count": null,
   "metadata": {
    "collapsed": true
   },
   "outputs": [],
   "source": []
  }
 ],
 "metadata": {
  "kernelspec": {
   "display_name": "Python 2",
   "language": "python",
   "name": "python2"
  },
  "language_info": {
   "codemirror_mode": {
    "name": "ipython",
    "version": 2
   },
   "file_extension": ".py",
   "mimetype": "text/x-python",
   "name": "python",
   "nbconvert_exporter": "python",
   "pygments_lexer": "ipython2",
   "version": "2.7.8"
  }
 },
 "nbformat": 4,
 "nbformat_minor": 0
}
