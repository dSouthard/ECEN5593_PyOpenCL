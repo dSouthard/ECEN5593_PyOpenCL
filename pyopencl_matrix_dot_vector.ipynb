{
 "cells": [
  {
   "cell_type": "code",
   "execution_count": 2,
   "metadata": {
    "collapsed": false
   },
   "outputs": [
    {
     "name": "stdout",
     "output_type": "stream",
     "text": [
      "Populating the interactive namespace from numpy and matplotlib\n"
     ]
    }
   ],
   "source": [
    "import matplotlib.pyplot as plt\n",
    "%pylab inline\n",
    "import numpy\n",
    "import pyopencl as cl\n",
    "from pyopencl import array\n",
    " \n",
    "#cv2.ocl.setUseOpenCL(False)\n",
    "# timing all of the cells\n",
    "#%install_ext https://raw.github.com/cpcloud/ipython-autotime/master/autotime.py\n",
    "%load_ext autotime"
   ]
  },
  {
   "cell_type": "code",
   "execution_count": 3,
   "metadata": {
    "collapsed": false
   },
   "outputs": [
    {
     "name": "stdout",
     "output_type": "stream",
     "text": [
      "[   85.  1360.   147.   285.]\n",
      "time: 353 ms\n"
     ]
    },
    {
     "name": "stderr",
     "output_type": "stream",
     "text": [
      "/usr/lib64/python2.7/site-packages/pyopencl-2015.2.4-py2.7-linux-x86_64.egg/pyopencl/__init__.py:206: CompilerWarning: Non-empty compiler output encountered. Set the environment variable PYOPENCL_COMPILER_OUTPUT=1 to see more.\n",
      "  \"to see more.\", CompilerWarning)\n"
     ]
    }
   ],
   "source": [
    "\n",
    "\n",
    " \n",
    "if __name__ == \"__main__\":\n",
    "    vector = numpy.zeros((1, 1), cl.array.vec.float4)\n",
    "    matrix = numpy.zeros((1, 4), cl.array.vec.float4)\n",
    "    matrix[0, 0] = (1, 2, 4, 8)\n",
    "    matrix[0, 1] = (16, 32, 64, 128)\n",
    "    matrix[0, 2] = (3, 6, 9, 12)\n",
    "    matrix[0, 3] = (5, 10, 15, 25)\n",
    "    vector[0, 0] = (1, 2, 4, 8)\n",
    "     \n",
    "    ## Step #1. Obtain an OpenCL platform.\n",
    "    platform = cl.get_platforms()[0]\n",
    "     \n",
    "    ## It would be necessary to add some code to check the check the support for\n",
    "    ## the necessary platform extensions with platform.extensions\n",
    "     \n",
    "    ## Step #2. Obtain a device id for at least one device (accelerator).\n",
    "    device = platform.get_devices()[0]\n",
    "     \n",
    "    ## It would be necessary to add some code to check the check the support for\n",
    "    ## the necessary device extensions with device.extensions\n",
    "     \n",
    "    ## Step #3. Create a context for the selected device.\n",
    "    context = cl.Context([device])\n",
    "     \n",
    "    ## Step #4. Create the accelerator program from source code.\n",
    "    ## Step #5. Build the program.\n",
    "    ## Step #6. Create one or more kernels from the program functions.\n",
    "    program = cl.Program(context, \"\"\"\n",
    "        __kernel void matrix_dot_vector(__global const float4 *matrix,\n",
    "        __global const float4 *vector, __global float *result)\n",
    "        {\n",
    "          int gid = get_global_id(0);\n",
    "          result[gid] = dot(matrix[gid], vector[0]);\n",
    "        }\n",
    "        \"\"\").build()\n",
    "     \n",
    "    ## Step #7. Create a command queue for the target device.\n",
    "    queue = cl.CommandQueue(context)\n",
    "     \n",
    "    ## Step #8. Allocate device memory and move input data from the host to the device memory.\n",
    "    mem_flags = cl.mem_flags\n",
    "    matrix_buf = cl.Buffer(context, mem_flags.READ_ONLY | mem_flags.COPY_HOST_PTR, hostbuf=matrix)\n",
    "    vector_buf = cl.Buffer(context, mem_flags.READ_ONLY | mem_flags.COPY_HOST_PTR, hostbuf=vector)\n",
    "    matrix_dot_vector = numpy.zeros(4, numpy.float32)\n",
    "    destination_buf = cl.Buffer(context, mem_flags.WRITE_ONLY, matrix_dot_vector.nbytes)\n",
    "     \n",
    "    ## Step #9. Associate the arguments to the kernel with kernel object.\n",
    "    ## Step #10. Deploy the kernel for device execution.\n",
    "    program.matrix_dot_vector(queue, matrix_dot_vector.shape, None, matrix_buf, vector_buf, destination_buf)\n",
    "     \n",
    "    ## Step #11. Move the kernel’s output data to host memory.\n",
    "    cl.enqueue_copy(queue, matrix_dot_vector, destination_buf)\n",
    "     \n",
    "    ## Step #12. Release context, program, kernels and memory.\n",
    "    ## PyOpenCL performs this step for you, and therefore,\n",
    "    ## you don't need to worry about cleanup code\n",
    "     \n",
    "    print(matrix_dot_vector)"
   ]
  },
  {
   "cell_type": "code",
   "execution_count": null,
   "metadata": {
    "collapsed": true
   },
   "outputs": [],
   "source": []
  },
  {
   "cell_type": "raw",
   "metadata": {},
   "source": [
    "The first lines create two variables that initialize both the matrix and the vector. Notice that vector is an array of cl.array.vec.float4 with a single element and matrix is an array of cl.array.vec.float4 with four elements. I used numpy.zeros to create the array with the cl.array.vec.float4 type and then additional code to initialize the values shown in Figure 1. This way, you can easily understand the way you can use cl.array.vec types:"
   ]
  },
  {
   "cell_type": "code",
   "execution_count": 4,
   "metadata": {
    "collapsed": false
   },
   "outputs": [
    {
     "name": "stdout",
     "output_type": "stream",
     "text": [
      "time: 9.7 ms\n"
     ]
    }
   ],
   "source": [
    "vector = numpy.zeros((1, 1), cl.array.vec.float4)\n",
    "matrix = numpy.zeros((1, 4), cl.array.vec.float4)\n",
    "matrix[0, 0] = (1, 2, 4, 8)\n",
    "matrix[0, 1] = (16, 32, 64, 128)\n",
    "matrix[0, 2] = (3, 6, 9, 12)\n",
    "matrix[0, 3] = (5, 10, 15, 25)\n",
    "vector[0, 0] = (1, 2, 4, 8)"
   ]
  },
  {
   "cell_type": "raw",
   "metadata": {},
   "source": [
    "The code retrieves the first available platform, then the first device for this platform. There is no code to check either the available extensions or the device type. However, I placed comments in the code as a reminder that these tasks are necessary in a more complex host program.\n",
    "\n",
    "Then, the code creates an OpenCL context for the selected device and calls cl.Program to create a program for the context with the kernel source code as one of the arguments. The call to the build() method for the created cl.Program instance builds the kernel.\n",
    "\n",
    "The code calls cl.CommandQueue with the context as an argument to create a command queue (queue) for the target device. Then, it allocates device memory and moves input data from the host to the device memory. The following lines use the most basic features provided by PyOpenCL to do this:"
   ]
  },
  {
   "cell_type": "code",
   "execution_count": 5,
   "metadata": {
    "collapsed": false
   },
   "outputs": [
    {
     "name": "stdout",
     "output_type": "stream",
     "text": [
      "time: 7.88 ms\n"
     ]
    }
   ],
   "source": [
    "mem_flags = cl.mem_flags\n",
    "matrix_buf = cl.Buffer(context, mem_flags.READ_ONLY | mem_flags.COPY_HOST_PTR, hostbuf=matrix)\n",
    "vector_buf = cl.Buffer(context, mem_flags.READ_ONLY | mem_flags.COPY_HOST_PTR, hostbuf=vector)\n",
    "matrix_dot_vector = numpy.zeros(4, numpy.float32)\n",
    "destination_buf = cl.Buffer(context, mem_flags.WRITE_ONLY, matrix_dot_vector.nbytes)"
   ]
  },
  {
   "cell_type": "raw",
   "metadata": {},
   "source": [
    "The code defines the following buffers by calling cl.Buffer:\n",
    "\n",
    "    matrix_buf. A read-only buffer that copies the data from the matrix variable. The kernel will read from this buffer in the global memory space\n",
    "    vector_buf. A read-only buffer that copies the data from the vector variable. The kernel will read from this buffer in the global memory space\n",
    "    destination_buf: A write-only buffer that will hold the result of the matrix-by-vector multiplication. The kernel will write to this buffer in the global memory space\n",
    "\n",
    "The following line associates the arguments to the kernel and deploys it for device execution by calling the method that PyOpenCL generates in program with the built kernel name: matrix_dot_vector. The previously created queue is the first argument:"
   ]
  },
  {
   "cell_type": "code",
   "execution_count": 6,
   "metadata": {
    "collapsed": false
   },
   "outputs": [
    {
     "data": {
      "text/plain": [
       "<pyopencl.cffi_cl.Event at 0x7fa041326e90>"
      ]
     },
     "execution_count": 6,
     "metadata": {},
     "output_type": "execute_result"
    },
    {
     "name": "stdout",
     "output_type": "stream",
     "text": [
      "time: 14.8 ms\n"
     ]
    }
   ],
   "source": [
    "program.matrix_dot_vector(queue, matrix_dot_vector.shape, None, matrix_buf, vector_buf, destination_buf)"
   ]
  },
  {
   "cell_type": "raw",
   "metadata": {},
   "source": [
    "The kernel receives the following arguments:\n",
    "\n",
    "    matrix_buf for matrix\n",
    "    vector_buf for vector\n",
    "    destination_buf for result\n"
   ]
  },
  {
   "cell_type": "raw",
   "metadata": {},
   "source": [
    "When the kernel finishes, it is time to move the kernel's output data (result) stored in destination_buf to the host program memory. The following line calls cl.enqueue_copy to do this, and the result will be available in the matrix_dot_vector variable."
   ]
  },
  {
   "cell_type": "code",
   "execution_count": 7,
   "metadata": {
    "collapsed": false
   },
   "outputs": [
    {
     "data": {
      "text/plain": [
       "<pyopencl.cffi_cl.NannyEvent at 0x7fa01d55d750>"
      ]
     },
     "execution_count": 7,
     "metadata": {},
     "output_type": "execute_result"
    },
    {
     "name": "stdout",
     "output_type": "stream",
     "text": [
      "time: 6.52 ms\n"
     ]
    }
   ],
   "source": [
    "cl.enqueue_copy(queue, matrix_dot_vector, destination_buf)"
   ]
  },
  {
   "cell_type": "code",
   "execution_count": 8,
   "metadata": {
    "collapsed": false
   },
   "outputs": [
    {
     "name": "stdout",
     "output_type": "stream",
     "text": [
      "[   85.  1360.   147.   285.]\n",
      "time: 3.43 ms\n"
     ]
    }
   ],
   "source": [
    "print(matrix_dot_vector)"
   ]
  },
  {
   "cell_type": "code",
   "execution_count": null,
   "metadata": {
    "collapsed": true
   },
   "outputs": [],
   "source": []
  }
 ],
 "metadata": {
  "kernelspec": {
   "display_name": "Python 2",
   "language": "python",
   "name": "python2"
  },
  "language_info": {
   "codemirror_mode": {
    "name": "ipython",
    "version": 2
   },
   "file_extension": ".py",
   "mimetype": "text/x-python",
   "name": "python",
   "nbconvert_exporter": "python",
   "pygments_lexer": "ipython2",
   "version": "2.7.8"
  }
 },
 "nbformat": 4,
 "nbformat_minor": 0
}
