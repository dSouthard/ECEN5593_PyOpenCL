{
 "cells": [
  {
   "cell_type": "code",
   "execution_count": 475,
   "metadata": {
    "collapsed": false
   },
   "outputs": [],
   "source": [
    "#!Systeminfo\n",
    "#!lspci\n",
    "import pyopencl as cl\n",
    "VERBOSE = True\n"
   ]
  },
  {
   "cell_type": "code",
   "execution_count": 476,
   "metadata": {
    "collapsed": false
   },
   "outputs": [],
   "source": [
    "# List platforms and devices\n",
    "def list_platforms_and_devices():\n",
    "    gpu_devices = []\n",
    "    cpu_devices = []\n",
    "    platforms = cl.get_platforms()\n",
    "    for platform in platforms:\n",
    "        if (platform.get_devices(device_type=cl.device_type.GPU)):\n",
    "            gpu_devices.append(platform.get_devices(device_type=cl.device_type.GPU))\n",
    "        if (platform.get_devices(device_type=cl.device_type.CPU)):\n",
    "            cpu_devices.append(platform.get_devices(device_type=cl.device_type.CPU))\n",
    " \n",
    "    #print \"GPU Devices:\", gpu_devices\n",
    "    #print \"CPU Devices:\", cpu_devices\n",
    "    #print \"\"\n",
    "    \n",
    "    g_devices = []\n",
    "    c_devices = []\n",
    "    unique_g_devices = []\n",
    "    unique_c_devices = []\n",
    "\n",
    "    print \"Platforms:\"\n",
    "    for i in platforms:\n",
    "        print str(i).split('\\'')[1]\n",
    "\n",
    "    print \"\\nGPU Devices:\"\n",
    "    for i in range(len(gpu_devices)):\n",
    "        for j in gpu_devices[i]:\n",
    "            g_devices.append(str(j).split('\\'')[1])\n",
    "            \n",
    "    [unique_g_devices.append(i) for i in g_devices if i not in unique_g_devices]\n",
    "    for i in unique_g_devices:\n",
    "        print i\n",
    "    \n",
    "    print \"\\nCPU Devices:\" \n",
    "    for i in range(len(cpu_devices)):\n",
    "        for j in cpu_devices[i]:\n",
    "            c_devices.append(str(j).split('\\'')[1])\n",
    "            \n",
    "    [unique_c_devices.append(i) for i in c_devices if i not in unique_c_devices]\n",
    "    for i in unique_c_devices:\n",
    "        print i\n",
    "        \n",
    "    return platforms,gpu_devices,cpu_devices"
   ]
  },
  {
   "cell_type": "code",
   "execution_count": 477,
   "metadata": {
    "collapsed": false
   },
   "outputs": [],
   "source": [
    "# choose a platform:\n",
    "def choose_platform(plat_choice):\n",
    "    my_platform = None\n",
    "    plat = cl.get_platforms()\n",
    "\n",
    "    try:\n",
    "        for i in range(len(plat)):\n",
    "            if (plat_choice.upper() in str(plat[i].name).upper()):\n",
    "                my_plat = plat[i]\n",
    "            #if (plat_choice.upper() == \"AMD\"):\n",
    "            #    if ('AMD' in str(plat[i].name).upper()):\n",
    "            #        my_plat = plat[i]                  \n",
    "            #elif (plat_choice.upper() == \"INTEL\"):\n",
    "            #    if ('INTEL' in str(plat[i]).upper()):\n",
    "            #        my_plat = plat[i]\n",
    "            #elif (plat_choice.upper() == \"NVIDIA\"):\n",
    "            #    if ('NVIDIA' in str(plat[i]).upper()):\n",
    "            #        my_plat = plat[i]      \n",
    "        if (VERBOSE):\n",
    "            if (my_plat == None):\n",
    "                print plat_choice, \"platform not found!\"\n",
    "            else:\n",
    "                print \"Platform Selected:\", my_plat.name           \n",
    "    except:\n",
    "         print \"Exception: Failed to get platform:\",plat_choice\n",
    "\n",
    "    return my_plat"
   ]
  },
  {
   "cell_type": "code",
   "execution_count": 478,
   "metadata": {
    "collapsed": false
   },
   "outputs": [],
   "source": [
    "def choose_device(platform_choice,device_choice):\n",
    "    my_device = None\n",
    "    device_list = []\n",
    "    try:\n",
    "        for device in platform_choice.get_devices():\n",
    "            device_list.append(device)\n",
    "            if (device_choice.upper() in str(device.name).upper()):\n",
    "                my_device = device\n",
    "                break\n",
    "        print \"Device Selected: %s\" % my_device.name\n",
    "    except:\n",
    "        print \"Unable to get device: \\\"\"+str(device_choice)+\"\\\"\",\n",
    "        print \"on platform:\",platform_choice\n",
    "        print \"Make sure you have the correct platform selected.\"\n",
    "\n",
    "    return my_device"
   ]
  },
  {
   "cell_type": "code",
   "execution_count": 479,
   "metadata": {
    "collapsed": false
   },
   "outputs": [],
   "source": [
    "# Prints out supported extensions for platforms\n",
    "def print_supported_extensions(platform=None):\n",
    "    try:\n",
    "        if not platform:\n",
    "            print \"print_supported_extensions(): No platform provided.\"\n",
    "        else:\n",
    "            print platform.name, \"supported extensions:\"\n",
    "            for i in platform.extensions.split():\n",
    "                print i\n",
    "    except:\n",
    "        print \"Unable to understand platform.\""
   ]
  },
  {
   "cell_type": "code",
   "execution_count": 480,
   "metadata": {
    "collapsed": false
   },
   "outputs": [
    {
     "name": "stdout",
     "output_type": "stream",
     "text": [
      "Platforms:\n",
      "AMD Accelerated Parallel Processing\n",
      "Intel(R) OpenCL\n",
      "Experimental OpenCL 2.0 CPU Only Platform\n",
      "\n",
      "GPU Devices:\n",
      "Cayman\n",
      "\n",
      "CPU Devices:\n",
      "Intel(R) Core(TM) i7 CPU         920  @ 2.67GHz\n",
      "\n",
      "Platform Selected: AMD Accelerated Parallel Processing\n",
      "Device Selected: Intel(R) Core(TM) i7 CPU         920  @ 2.67GHz\n",
      "\n",
      "AMD Accelerated Parallel Processing supported extensions:\n",
      "cl_khr_icd\n",
      "cl_khr_d3d10_sharing\n",
      "cl_khr_d3d11_sharing\n",
      "cl_khr_dx9_media_sharing\n",
      "cl_amd_event_callback\n",
      "cl_amd_offline_devices\n"
     ]
    }
   ],
   "source": [
    "platform_choice = \"amd\"\n",
    "device_choice = \"intel\"\n",
    "list_platforms_and_devices()\n",
    "print \"\"\n",
    "\n",
    "platform = choose_platform(platform_choice)\n",
    "device = choose_device(platform, device_choice)\n",
    "print \"\"\n",
    "print_supported_extensions(platform)"
   ]
  },
  {
   "cell_type": "code",
   "execution_count": null,
   "metadata": {
    "collapsed": true
   },
   "outputs": [],
   "source": []
  }
 ],
 "metadata": {
  "kernelspec": {
   "display_name": "Python 2",
   "language": "python",
   "name": "python2"
  },
  "language_info": {
   "codemirror_mode": {
    "name": "ipython",
    "version": 2
   },
   "file_extension": ".py",
   "mimetype": "text/x-python",
   "name": "python",
   "nbconvert_exporter": "python",
   "pygments_lexer": "ipython2",
   "version": "2.7.10"
  }
 },
 "nbformat": 4,
 "nbformat_minor": 0
}
