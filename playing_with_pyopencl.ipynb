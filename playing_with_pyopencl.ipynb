{
 "cells": [
  {
   "cell_type": "code",
   "execution_count": 17,
   "metadata": {
    "collapsed": false
   },
   "outputs": [
    {
     "name": "stdout",
     "output_type": "stream",
     "text": [
      "Linux ucdeneleccalc-01.ucdenver.pvt 3.17.4-301.fc21.x86_64 #1 SMP Thu Nov 27 19:09:10 UTC 2014 x86_64 x86_64 x86_64 GNU/Linux\n",
      "yaffe.kravitz\n",
      ":/usr/lib64/python2.7/site-packages/cffi-1.5.2-py2.7-linux-x86_64.egg\n"
     ]
    }
   ],
   "source": [
    "!uname -a\n",
    "!whoami\n",
    "!echo $PYTHONPATH\n",
    "import pyopencl"
   ]
  },
  {
   "cell_type": "code",
   "execution_count": 18,
   "metadata": {
    "collapsed": false
   },
   "outputs": [],
   "source": [
    "import pyopencl as cl\n",
    "import pyopencl.array as cla\n",
    "import numpy as n\n",
    "\n",
    "\n"
   ]
  },
  {
   "cell_type": "code",
   "execution_count": 19,
   "metadata": {
    "collapsed": false
   },
   "outputs": [],
   "source": [
    "def test1():\n",
    "    '''you might think the Array class is something that simplifies code.\n",
    "       this example shows it is not (change the comments and see the errors).\n",
    "       instead, it seems to be something that looks like a numpy array,\n",
    "       but which farms out work to the GPU (operation by operation).'''\n",
    "    \n",
    "    ctx = cl.create_some_context()\n",
    "    queue = cl.CommandQueue(ctx)\n",
    "\n",
    "    a = n.array([0], dtype=n.int32)\n",
    "\n",
    "    # this works\n",
    "    a_dev = cl.Buffer(ctx, cl.mem_flags.WRITE_ONLY, a.nbytes)\n",
    "    # this alternative (plus below) fails\n",
    "    #a_dev = cla.to_device(queue, a)\n",
    "\n",
    "    prg = cl.Program(ctx, \"\"\"\n",
    "        __kernel void test1(__global int* a) {\n",
    "            a[0] = 1;\n",
    "        }\n",
    "        \"\"\").build()\n",
    "\n",
    "    event = prg.test1(queue, (1,), None, a_dev)\n",
    "    event.wait()\n",
    "\n",
    "    # this works\n",
    "    cl.enqueue_copy(queue, a, a_dev)\n",
    "    # this alternative(plus above) fails\n",
    "    #a = a_dev.get()\n",
    "    \n",
    "    print(a)\n",
    "\n",
    "\n"
   ]
  },
  {
   "cell_type": "code",
   "execution_count": 20,
   "metadata": {
    "collapsed": true
   },
   "outputs": [],
   "source": [
    "def test3():\n",
    "    '''constants (like b) don't need buffering.'''\n",
    "    \n",
    "    ctx = cl.create_some_context()\n",
    "    queue = cl.CommandQueue(ctx)\n",
    "\n",
    "    a = n.array([0], dtype=n.int32)\n",
    "    b = n.int32(4)\n",
    "\n",
    "    a_dev = cl.Buffer(ctx, cl.mem_flags.WRITE_ONLY, a.nbytes)\n",
    "\n",
    "    prg = cl.Program(ctx, \"\"\"\n",
    "        __kernel void test1(__global int* a, const int b) {\n",
    "            a[0] = b;\n",
    "        }\n",
    "        \"\"\").build()\n",
    "\n",
    "    event = prg.test1(queue, (1,), None, a_dev, b)\n",
    "    event.wait()\n",
    "\n",
    "    cl.enqueue_copy(queue, a, a_dev)\n",
    "\n",
    "    print(a)"
   ]
  },
  {
   "cell_type": "code",
   "execution_count": 21,
   "metadata": {
    "collapsed": true
   },
   "outputs": [],
   "source": [
    "# Copying Bytes\n",
    "\n",
    "def test4():\n",
    "\n",
    "    ctx = cl.create_some_context()\n",
    "    queue = cl.CommandQueue(ctx)\n",
    "\n",
    "    a = n.array([0], dtype=n.int32)\n",
    "    b = n.uint8(129)\n",
    "\n",
    "    a_dev = cl.Buffer(ctx, cl.mem_flags.WRITE_ONLY, a.nbytes)\n",
    "\n",
    "    prg = cl.Program(ctx, \"\"\"\n",
    "        __kernel void test1(__global int* a, const uchar b) {\n",
    "            a[0] = b;\n",
    "        }\n",
    "        \"\"\").build()\n",
    "\n",
    "    event = prg.test1(queue, (1,), None, a_dev, b)\n",
    "    event.wait()\n",
    "\n",
    "    cl.enqueue_copy(queue, a, a_dev)\n",
    "\n",
    "    print(a)"
   ]
  },
  {
   "cell_type": "code",
   "execution_count": 22,
   "metadata": {
    "collapsed": true
   },
   "outputs": [],
   "source": [
    "# Using Array\n",
    "\n",
    "def test5():\n",
    "\n",
    "    ctx = cl.create_some_context()\n",
    "    queue = cl.CommandQueue(ctx)\n",
    "\n",
    "    a = n.array([0], dtype=n.int32)\n",
    "\n",
    "    a_array = cla.to_device(queue, a)\n",
    "\n",
    "    prg = cl.Program(ctx, \"\"\"\n",
    "        __kernel void test1(__global int* a) {\n",
    "            a[0] = 1;\n",
    "        }\n",
    "        \"\"\").build()\n",
    "\n",
    "    event = prg.test1(queue, (1,), None, a_array.data)\n",
    "    event.wait()\n",
    "\n",
    "    a = a_array.get()\n",
    "\n",
    "    print(a)"
   ]
  },
  {
   "cell_type": "code",
   "execution_count": 23,
   "metadata": {
    "collapsed": false
   },
   "outputs": [
    {
     "name": "stdout",
     "output_type": "stream",
     "text": [
      "('\\x01\\x00\\x00\\x00\\x02\\x00\\x00\\x00', 8)\n",
      "(array([0], dtype=int32), 4, 4)\n",
      "(array([0], dtype=int32), 4, 4)\n",
      "[1]\n",
      "[2]\n",
      "(array([[1, 2]], dtype=int32), 4, 8)\n",
      "(array([0], dtype=int32), 4, 4)\n",
      "(array([0], dtype=int32), 4, 4)\n",
      "[1]\n",
      "[2]\n"
     ]
    }
   ],
   "source": [
    "# Struct and packing\n",
    "\n",
    "def test6():\n",
    "\n",
    "    # i have intel and amd installed (running on cpu).\n",
    "    # switching gives different error messages (useful at times!)\n",
    "#    p = cl.get_platforms();\n",
    "#    print(p)\n",
    "#    d = p[0].get_devices() # 1 is amd\n",
    "#    print(d)\n",
    "#    ctx = cl.Context(devices=d)\n",
    "    \n",
    "    ctx = cl.create_some_context()\n",
    "    queue = cl.CommandQueue(ctx)\n",
    "\n",
    "    for use_struct in (True, False):\n",
    "\n",
    "        if use_struct:\n",
    "            a = s.pack('=ii',1,2)\n",
    "            print(a, len(a))\n",
    "            a_dev = cl.Buffer(ctx, cl.mem_flags.WRITE_ONLY, len(a))\n",
    "        else:\n",
    "            a = n.array([(1,2)], dtype=n.dtype('2i4', align=True))\n",
    "#            a = n.array([(1,2)], dtype=n.dtype('2i4'))\n",
    "            print(a, a.itemsize, a.nbytes)\n",
    "            a_dev = cl.Buffer(ctx, cl.mem_flags.WRITE_ONLY, a.nbytes)\n",
    "\n",
    "        b = n.array([0], dtype='i4')\n",
    "        print(b, b.itemsize, b.nbytes)\n",
    "        b_dev = cl.Buffer(ctx, cl.mem_flags.READ_ONLY, b.nbytes)\n",
    "\n",
    "        c = n.array([0], dtype='i4')\n",
    "        print(c, c.itemsize, c.nbytes)\n",
    "        c_dev = cl.Buffer(ctx, cl.mem_flags.READ_ONLY, c.nbytes)\n",
    "\n",
    "        prg = cl.Program(ctx, \"\"\"\n",
    "            typedef struct s {\n",
    "                int f0;\n",
    "                int f1 __attribute__ ((packed));\n",
    "            } s;\n",
    "            __kernel void test(__global const s *a, __global int *b, __global\n",
    "            int *c) {\n",
    "                *b = a->f0;\n",
    "                *c = a->f1;\n",
    "            }\n",
    "            \"\"\").build()\n",
    "\n",
    "        cl.enqueue_copy(queue, a_dev, a)\n",
    "        event = prg.test(queue, (1,), None, a_dev, b_dev, c_dev)\n",
    "        event.wait()\n",
    "        cl.enqueue_copy(queue, b, b_dev)\n",
    "        print(b)\n",
    "        cl.enqueue_copy(queue, c, c_dev)\n",
    "        print(c)\n",
    "\n",
    "\n",
    "if __name__ == '__main__':\n",
    "    test6()"
   ]
  },
  {
   "cell_type": "code",
   "execution_count": 24,
   "metadata": {
    "collapsed": false
   },
   "outputs": [
    {
     "name": "stdout",
     "output_type": "stream",
     "text": [
      "('\\x01\\x02', 2)\n",
      "(array([0], dtype=int32), 4, 4)\n",
      "(array([0], dtype=int32), 4, 4)\n",
      "[1]\n",
      "[2]\n",
      "(array([[1, 2]], dtype=int8), 1, 2)\n",
      "(array([0], dtype=int32), 4, 4)\n",
      "(array([0], dtype=int32), 4, 4)\n",
      "[1]\n",
      "[2]\n"
     ]
    }
   ],
   "source": [
    "# Bytes in struct\n",
    "# Like taking candy from a baby :o)  (note that writing to bytes is an oencl\n",
    "# extension, which is why I am using ints as output).\n",
    "\n",
    "import struct as s\n",
    "\n",
    "ctx = cl.create_some_context()\n",
    "queue = cl.CommandQueue(ctx)\n",
    "\n",
    "for use_struct in (True, False):\n",
    "\n",
    "    if use_struct:\n",
    "        a = s.pack('=bb',1,2)\n",
    "        print(a, len(a))\n",
    "        a_dev = cl.Buffer(ctx, cl.mem_flags.WRITE_ONLY, len(a))\n",
    "    else:\n",
    "#            a = n.array([(1,2)], dtype=n.dtype('2i1', align=True))\n",
    "        a = n.array([(1,2)], dtype=n.dtype('2i1'))\n",
    "        print(a, a.itemsize, a.nbytes)\n",
    "        a_dev = cl.Buffer(ctx, cl.mem_flags.WRITE_ONLY, a.nbytes)\n",
    "\n",
    "    b = n.array([0], dtype='i4')\n",
    "    print(b, b.itemsize, b.nbytes)\n",
    "    b_dev = cl.Buffer(ctx, cl.mem_flags.READ_ONLY, b.nbytes)\n",
    "\n",
    "    c = n.array([0], dtype='i4')\n",
    "    print(c, c.itemsize, c.nbytes)\n",
    "    c_dev = cl.Buffer(ctx, cl.mem_flags.READ_ONLY, c.nbytes)\n",
    "\n",
    "    prg = cl.Program(ctx, \"\"\"\n",
    "        typedef struct s {\n",
    "            char f0;\n",
    "            char f1 __attribute__ ((packed));\n",
    "        } s;\n",
    "        __kernel void test(__global const s *a, __global int *b, __global\n",
    "        int *c) {\n",
    "            *b = a->f0;\n",
    "            *c = a->f1;\n",
    "        }\n",
    "        \"\"\").build()\n",
    "\n",
    "    cl.enqueue_copy(queue, a_dev, a)\n",
    "    event = prg.test(queue, (1,), None, a_dev, b_dev, c_dev)\n",
    "    event.wait()\n",
    "    cl.enqueue_copy(queue, b, b_dev)\n",
    "    print(b)\n",
    "    cl.enqueue_copy(queue, c, c_dev)\n",
    "    print(c)\n",
    "\n"
   ]
  },
  {
   "cell_type": "code",
   "execution_count": 28,
   "metadata": {
    "collapsed": false
   },
   "outputs": [
    {
     "name": "stdout",
     "output_type": "stream",
     "text": [
      "('\\x01\\x02\\x00\\x00\\x00', 5)\n",
      "(array([0], dtype=int32), 4, 4)\n",
      "(array([0], dtype=int32), 4, 4)\n",
      "[1]\n",
      "[2]\n",
      "(array([[1, 2]], dtype=int32), 4, 8)\n",
      "(array([0], dtype=int32), 4, 4)\n",
      "(array([0], dtype=int32), 4, 4)\n",
      "[1]\n",
      "[33554432]\n"
     ]
    }
   ],
   "source": [
    "# Trickier Alignment\n",
    "\n",
    "# This shows the importance of numpy's \"align\" keyword.\n",
    "\n",
    "ctx = cl.create_some_context()\n",
    "queue = cl.CommandQueue(ctx)\n",
    "\n",
    "for use_struct in (True, False):\n",
    "\n",
    "    if use_struct:\n",
    "        a = s.pack('=bi',1,2)\n",
    "        print(a, len(a))\n",
    "        a_dev = cl.Buffer(ctx, cl.mem_flags.WRITE_ONLY, len(a))\n",
    "    else:\n",
    "        a = n.array([(1,2)], dtype=n.dtype('i4', align=True))\n",
    "        # this no longer works - without align=True we get the wrong value\n",
    "        #a = n.array([(1,2)], dtype=n.dtype('i1i4'))\n",
    "        print(a, a.itemsize, a.nbytes)\n",
    "        a_dev = cl.Buffer(ctx, cl.mem_flags.WRITE_ONLY, a.nbytes)\n",
    "\n",
    "    b = n.array([0], dtype='i4')\n",
    "    print(b, b.itemsize, b.nbytes)\n",
    "    b_dev = cl.Buffer(ctx, cl.mem_flags.READ_ONLY, b.nbytes)\n",
    "\n",
    "    c = n.array([0], dtype='i4')\n",
    "    print(c, c.itemsize, c.nbytes)\n",
    "    c_dev = cl.Buffer(ctx, cl.mem_flags.READ_ONLY, c.nbytes)\n",
    "\n",
    "    prg = cl.Program(ctx, \"\"\"\n",
    "        typedef struct s {\n",
    "            char f0;\n",
    "            int f1 __attribute__ ((packed));\n",
    "        } s;\n",
    "        __kernel void test(__global const s *a, __global int *b, __global\n",
    "        int *c) {\n",
    "            *b = a->f0;\n",
    "            *c = a->f1;\n",
    "        }\n",
    "        \"\"\").build()\n",
    "\n",
    "    cl.enqueue_copy(queue, a_dev, a)\n",
    "    event = prg.test(queue, (1,), None, a_dev, b_dev, c_dev)\n",
    "    event.wait()\n",
    "    cl.enqueue_copy(queue, b, b_dev)\n",
    "    print(b)\n",
    "    cl.enqueue_copy(queue, c, c_dev)\n",
    "    print(c)"
   ]
  },
  {
   "cell_type": "code",
   "execution_count": 31,
   "metadata": {
    "collapsed": false
   },
   "outputs": [
    {
     "name": "stdout",
     "output_type": "stream",
     "text": [
      "[4]\n",
      "[129]\n",
      "[1]\n"
     ]
    }
   ],
   "source": [
    "test3()\n",
    "test4()\n",
    "test5()"
   ]
  },
  {
   "cell_type": "code",
   "execution_count": null,
   "metadata": {
    "collapsed": true
   },
   "outputs": [],
   "source": []
  },
  {
   "cell_type": "code",
   "execution_count": null,
   "metadata": {
    "collapsed": true
   },
   "outputs": [],
   "source": []
  }
 ],
 "metadata": {
  "kernelspec": {
   "display_name": "Python 2",
   "language": "python",
   "name": "python2"
  },
  "language_info": {
   "codemirror_mode": {
    "name": "ipython",
    "version": 2
   },
   "file_extension": ".py",
   "mimetype": "text/x-python",
   "name": "python",
   "nbconvert_exporter": "python",
   "pygments_lexer": "ipython2",
   "version": "2.7.8"
  }
 },
 "nbformat": 4,
 "nbformat_minor": 0
}
