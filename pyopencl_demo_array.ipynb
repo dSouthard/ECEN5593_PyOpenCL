{
 "cells": [
  {
   "cell_type": "code",
   "execution_count": 1,
   "metadata": {
    "collapsed": false
   },
   "outputs": [
    {
     "name": "stdout",
     "output_type": "stream",
     "text": [
      "0.0\n"
     ]
    },
    {
     "name": "stderr",
     "output_type": "stream",
     "text": [
      "/usr/lib64/python2.7/site-packages/pyopencl-2015.2.4-py2.7-linux-x86_64.egg/pyopencl/__init__.py:206: CompilerWarning: Non-empty compiler output encountered. Set the environment variable PYOPENCL_COMPILER_OUTPUT=1 to see more.\n",
      "  \"to see more.\", CompilerWarning)\n"
     ]
    }
   ],
   "source": [
    "from __future__ import absolute_import\n",
    "from __future__ import print_function\n",
    "import pyopencl as cl\n",
    "import pyopencl.array as cl_array\n",
    "import numpy\n",
    "import numpy.linalg as la\n",
    "\n",
    "a = numpy.random.rand(50000).astype(numpy.float32)\n",
    "b = numpy.random.rand(50000).astype(numpy.float32)\n",
    "\n",
    "ctx = cl.create_some_context()\n",
    "queue = cl.CommandQueue(ctx)\n",
    "\n",
    "a_dev = cl_array.to_device(queue, a)\n",
    "b_dev = cl_array.to_device(queue, b)\n",
    "dest_dev = cl_array.empty_like(a_dev)\n",
    "\n",
    "prg = cl.Program(ctx, \"\"\"\n",
    "    __kernel void sum(__global const float *a,\n",
    "    __global const float *b, __global float *c)\n",
    "    {\n",
    "      int gid = get_global_id(0);\n",
    "      c[gid] = a[gid] + b[gid];\n",
    "    }\n",
    "    \"\"\").build()\n",
    "\n",
    "prg.sum(queue, a.shape, None, a_dev.data, b_dev.data, dest_dev.data)\n",
    "\n",
    "print(la.norm((dest_dev - (a_dev+b_dev)).get()))\n"
   ]
  },
  {
   "cell_type": "code",
   "execution_count": null,
   "metadata": {
    "collapsed": true
   },
   "outputs": [],
   "source": []
  }
 ],
 "metadata": {
  "kernelspec": {
   "display_name": "Python 2",
   "language": "python",
   "name": "python2"
  },
  "language_info": {
   "codemirror_mode": {
    "name": "ipython",
    "version": 2
   },
   "file_extension": ".py",
   "mimetype": "text/x-python",
   "name": "python",
   "nbconvert_exporter": "python",
   "pygments_lexer": "ipython2",
   "version": "2.7.8"
  }
 },
 "nbformat": 4,
 "nbformat_minor": 0
}
